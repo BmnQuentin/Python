{
 "cells": [
  {
   "cell_type": "markdown",
   "metadata": {},
   "source": [
    "# RNN with tensorflow2.0"
   ]
  },
  {
   "cell_type": "code",
   "execution_count": 1,
   "metadata": {},
   "outputs": [
    {
     "name": "stderr",
     "output_type": "stream",
     "text": [
      "C:\\Program Files (x86)\\Microsoft Visual Studio\\Shared\\Anaconda3_64\\lib\\site-packages\\h5py\\__init__.py:36: FutureWarning: Conversion of the second argument of issubdtype from `float` to `np.floating` is deprecated. In future, it will be treated as `np.float64 == np.dtype(float).type`.\n",
      "  from ._conv import register_converters as _register_converters\n"
     ]
    }
   ],
   "source": [
    "import tensorflow as tf\n",
    "import numpy as np"
   ]
  },
  {
   "cell_type": "markdown",
   "metadata": {},
   "source": [
    "## Be sure to used Tensorflow 2.0"
   ]
  },
  {
   "cell_type": "code",
   "execution_count": 2,
   "metadata": {},
   "outputs": [],
   "source": [
    "assert hasattr(tf, \"function\") # Be sure to use tensorflow 2.0"
   ]
  },
  {
   "cell_type": "markdown",
   "metadata": {},
   "source": [
    "## Open and process dataset"
   ]
  },
  {
   "cell_type": "code",
   "execution_count": 4,
   "metadata": {},
   "outputs": [
    {
     "name": "stdout",
     "output_type": "stream",
     "text": [
      "2230741\n",
      "avec un vrai scénario alors la scéne du tri sélectif pléonasme pour l évacuation de l étoile de la mort avant la destruction était trop longue et pas assez cinématographique c est moi ou c est le sabre laser d anakin skywalker qu il a dans la main qu est ce qu il fait avec un sabre perdu sur bespin il a récupéré la main de luke aussi j espère a aucun moment dans les 4 5 et 6 luke ne devient maitre jedi il se proclame chevalier jedi mais c est parce qu il le veut bien solo dit d ailleurs qu il a pris la grosse tête et yoda lui dit après que non il n est pas chevalier il lui reste une épreuve pour devenir ne serait ce que chevalier et le retour du jedi c est le jedi anakin qui revient c est pas luke le jedi dans le 6 après le voyage initiatique de luke est ce qu il est mais difficile de condenser l ascension de garçon de ferme à chevalier jedi 3 films comme solo qui passe de contrebandier à général héro de la résistance ou encore lando qui passe de traite à général du 5 au 6 forcément il\n"
     ]
    }
   ],
   "source": [
    "# You can use your own dataset with english text\n",
    "\n",
    "with open(\"yourdoc.txt\", \"r\") as f:\n",
    "    text = f.read()\n",
    "\n",
    "print(len(text))\n",
    "\n",
    "print(text[:1000])\n"
   ]
  },
  {
   "cell_type": "markdown",
   "metadata": {},
   "source": [
    "## Remove character and create vocab\n",
    "![](./images/rnn_vocab.png)"
   ]
  },
  {
   "cell_type": "code",
   "execution_count": 14,
   "metadata": {},
   "outputs": [
    {
     "name": "stdout",
     "output_type": "stream",
     "text": [
      "27 {'m', 'w', 'd', 's', 'y', 'z', 'i', 'g', 'p', 'u', 'x', 'h', 'l', 'r', 'a', 'v', 'c', 'f', 'k', ' ', 'b', 'j', 'n', 'o', 'e', 'q', 't'}\n",
      "avec un vrai scenario alors la scene du tri selectif pleonasme pour l evacuation de l etoile de la mort avant la destruction etait trop longue et pas assez cinematographique c est moi ou c est le sabre laser d anakin skywalker qu il a dans la main qu est ce qu il fait avec un sabre perdu sur bespin il a recupere la main de luke aussi j espere a aucun moment dans les et luke ne devient maitre jedi il se proclame chevalier jedi mais c est parce qu il le veut bien solo dit d ailleurs qu il a pris la grosse tete et yoda lui dit apres que non il n est pas chevalier il lui reste une epreuve pour devenir ne serait ce que chevalier et le retour du jedi c est le jedi anakin qui revient c est pas luke le jedi dans le apres le voyage initiatique de luke est ce qu il est mais difficile de condenser l ascension de garcon de ferme a chevalier jedi films comme solo qui passe de contrebandier a general hero de la resistance ou encore lando qui passe de traite a general du au forcement il y a des racco\n"
     ]
    }
   ],
   "source": [
    "#import unidecode\n",
    "\n",
    "#text = unidecode.unidecode(text)\n",
    "text = text.lower()\n",
    "\n",
    "for i in range(0,10):\n",
    "    text = text.replace(str(i), \"\")\n",
    "text = text.replace(\"é\", \"e\")\n",
    "text = text.replace(\"è\", \"e\")\n",
    "text = text.replace(\"ê\", \"e\")\n",
    "text = text.replace(\"à\", \"a\")\n",
    "text = text.replace(\"ÿ\", \"y\")\n",
    "text = text.replace(\"ï\", \"i\")\n",
    "text = text.replace(\"ë\", \"e\")\n",
    "text = text.replace(\"î\", \"i\")\n",
    "text = text.replace(\"û\", \"u\")\n",
    "text = text.replace(\"â\", \"a\")\n",
    "text = text.replace(\"ä\", \"a\")\n",
    "text = text.replace(\"_\", \"\")\n",
    "text = text.replace(\"  \", \" \")\n",
    "text = text.replace(\"œ\", \"oe\")\n",
    "text = text.replace(\"ù\", \"u\")\n",
    "text = text.replace(\"ô\", \"o\")\n",
    "text = text.replace(\"ç\", \"c\")\n",
    "\n",
    "text = text.strip()\n",
    "\n",
    "vocab = set(text)\n",
    "print(len(vocab), vocab)\n",
    "\n",
    "print(text[:1000])\n"
   ]
  },
  {
   "cell_type": "markdown",
   "metadata": {},
   "source": [
    "## Map each letter to int"
   ]
  },
  {
   "cell_type": "code",
   "execution_count": 15,
   "metadata": {},
   "outputs": [
    {
     "name": "stdout",
     "output_type": "stream",
     "text": [
      "vocab_to_int {'m': 0, 'w': 1, 'd': 2, 's': 3, 'y': 4, 'z': 5, 'i': 6, 'g': 7, 'p': 8, 'u': 9, 'x': 10, 'h': 11, 'l': 12, 'r': 13, 'a': 14, 'v': 15, 'c': 16, 'f': 17, 'k': 18, ' ': 19, 'b': 20, 'j': 21, 'n': 22, 'o': 23, 'e': 24, 'q': 25, 't': 26}\n",
      "\n",
      "int_to_vocab {0: 'm', 1: 'w', 2: 'd', 3: 's', 4: 'y', 5: 'z', 6: 'i', 7: 'g', 8: 'p', 9: 'u', 10: 'x', 11: 'h', 12: 'l', 13: 'r', 14: 'a', 15: 'v', 16: 'c', 17: 'f', 18: 'k', 19: ' ', 20: 'b', 21: 'j', 22: 'n', 23: 'o', 24: 'e', 25: 'q', 26: 't'}\n",
      "\n",
      "int for e: 24\n",
      "letter for 24: e\n"
     ]
    }
   ],
   "source": [
    "vocab_size = len(vocab)\n",
    "\n",
    "vocab_to_int = {l:i for i,l in enumerate(vocab)}\n",
    "int_to_vocab = {i:l for i,l in enumerate(vocab)}\n",
    "\n",
    "print(\"vocab_to_int\", vocab_to_int)\n",
    "print()\n",
    "print(\"int_to_vocab\", int_to_vocab)\n",
    "\n",
    "print(\"\\nint for e:\", vocab_to_int[\"e\"])\n",
    "int_for_e = vocab_to_int[\"e\"]\n",
    "print(\"letter for %s: %s\" % (vocab_to_int[\"e\"], int_to_vocab[int_for_e]))"
   ]
  },
  {
   "cell_type": "code",
   "execution_count": 16,
   "metadata": {},
   "outputs": [
    {
     "name": "stdout",
     "output_type": "stream",
     "text": [
      "[14, 15, 24, 16, 19, 9, 22, 19, 15, 13, 14, 6, 19, 3, 16, 24, 22, 14, 13, 6, 23, 19, 14, 12, 23, 13, 3, 19, 12, 14, 19, 3, 16, 24, 22, 24, 19, 2, 9, 19, 26, 13, 6, 19, 3, 24, 12, 24, 16, 26, 6, 17, 19, 8, 12, 24, 23, 22, 14, 3, 0, 24, 19, 8, 23, 9, 13, 19, 12, 19, 24, 15, 14, 16, 9, 14, 26, 6, 23, 22, 19, 2, 24, 19, 12, 19, 24, 26, 23, 6, 12, 24, 19, 2, 24, 19, 12, 14, 19, 0]\n"
     ]
    }
   ],
   "source": [
    "encoded = [vocab_to_int[l] for l in text]\n",
    "encoded_sentence = encoded[:100]\n",
    "\n",
    "print(encoded_sentence)"
   ]
  },
  {
   "cell_type": "code",
   "execution_count": 17,
   "metadata": {},
   "outputs": [
    {
     "name": "stdout",
     "output_type": "stream",
     "text": [
      "['a', 'v', 'e', 'c', ' ', 'u', 'n', ' ', 'v', 'r', 'a', 'i', ' ', 's', 'c', 'e', 'n', 'a', 'r', 'i', 'o', ' ', 'a', 'l', 'o', 'r', 's', ' ', 'l', 'a', ' ', 's', 'c', 'e', 'n', 'e', ' ', 'd', 'u', ' ', 't', 'r', 'i', ' ', 's', 'e', 'l', 'e', 'c', 't', 'i', 'f', ' ', 'p', 'l', 'e', 'o', 'n', 'a', 's', 'm', 'e', ' ', 'p', 'o', 'u', 'r', ' ', 'l', ' ', 'e', 'v', 'a', 'c', 'u', 'a', 't', 'i', 'o', 'n', ' ', 'd', 'e', ' ', 'l', ' ', 'e', 't', 'o', 'i', 'l', 'e', ' ', 'd', 'e', ' ', 'l', 'a', ' ', 'm']\n"
     ]
    }
   ],
   "source": [
    "decoded_sentence = [int_to_vocab[i] for i in encoded_sentence]\n",
    "print(decoded_sentence)"
   ]
  },
  {
   "cell_type": "code",
   "execution_count": 18,
   "metadata": {},
   "outputs": [
    {
     "name": "stdout",
     "output_type": "stream",
     "text": [
      "avec un vrai scenario alors la scene du tri selectif pleonasme pour l evacuation de l etoile de la m\n"
     ]
    }
   ],
   "source": [
    "decoded_sentence = \"\".join(decoded_sentence)\n",
    "print(decoded_sentence)"
   ]
  },
  {
   "cell_type": "markdown",
   "metadata": {},
   "source": [
    "## Sample of one batch\n",
    "<img src=\"./images/rnn_letter.png\" width=\"400px\" ></img>"
   ]
  },
  {
   "cell_type": "code",
   "execution_count": 19,
   "metadata": {},
   "outputs": [
    {
     "name": "stdout",
     "output_type": "stream",
     "text": [
      "Inputs [14, 15, 24, 16, 19, 9, 22, 19, 15, 13]\n",
      "Targets [15, 24, 16, 19, 9, 22, 19, 15, 13, 14]\n"
     ]
    }
   ],
   "source": [
    "inputs, targets = encoded, encoded[1:]\n",
    "\n",
    "print(\"Inputs\", inputs[:10])\n",
    "print(\"Targets\", targets[:10])"
   ]
  },
  {
   "cell_type": "markdown",
   "metadata": {},
   "source": [
    "## Method used to generate batch in sequence order"
   ]
  },
  {
   "cell_type": "code",
   "execution_count": 31,
   "metadata": {},
   "outputs": [
    {
     "name": "stdout",
     "output_type": "stream",
     "text": [
      "[14. 15. 24. 16. 19.] [15. 24. 16. 19.  9.]\n"
     ]
    }
   ],
   "source": [
    "def gen_batch(inputs, targets, seq_len, batch_size, noise=0):\n",
    "    # Size of each chunk\n",
    "    chuck_size = (len(inputs) -1)  // batch_size\n",
    "    # Number of sequences per chunk\n",
    "    sequences_per_chunk = chuck_size // seq_len\n",
    "\n",
    "    for s in range(0, sequences_per_chunk):\n",
    "        batch_inputs = np.zeros((batch_size, seq_len))\n",
    "        batch_targets = np.zeros((batch_size, seq_len))\n",
    "        for b in range(0, batch_size):\n",
    "            fr = (b*chuck_size)+(s*seq_len)\n",
    "            to = fr+seq_len\n",
    "            batch_inputs[b] = inputs[fr:to]\n",
    "            batch_targets[b] = inputs[fr+1:to+1]\n",
    "            \n",
    "            if noise > 0:\n",
    "                noise_indices = np.random.choice(seq_len, noise)\n",
    "                batch_inputs[b][noise_indices] = np.random.randint(0, vocab_size)\n",
    "            \n",
    "        yield batch_inputs, batch_targets\n",
    "\n",
    "\n",
    "for batch_inputs, batch_targets in gen_batch(inputs, targets, 5, 32, noise=0):\n",
    "    print(batch_inputs[0], batch_targets[0])\n",
    "    break\n",
    "\n",
    "#for batch_inputs, batch_targets in gen_batch(inputs, targets, 5, 32, noise=3):\n",
    "#    print(batch_inputs[0], batch_targets[0])\n",
    "#    break"
   ]
  },
  {
   "cell_type": "code",
   "execution_count": null,
   "metadata": {},
   "outputs": [],
   "source": []
  },
  {
   "cell_type": "markdown",
   "metadata": {},
   "source": [
    "## Create your own layer"
   ]
  },
  {
   "cell_type": "code",
   "execution_count": 32,
   "metadata": {},
   "outputs": [],
   "source": [
    "class OneHot(tf.keras.layers.Layer):\n",
    "    def __init__(self, depth, **kwargs):\n",
    "        super(OneHot, self).__init__(**kwargs)\n",
    "        self.depth = depth\n",
    "\n",
    "    def call(self, x, mask=None):\n",
    "        return tf.one_hot(tf.cast(x, tf.int32), self.depth)"
   ]
  },
  {
   "cell_type": "markdown",
   "metadata": {},
   "source": [
    "Test if the layer works well"
   ]
  },
  {
   "cell_type": "code",
   "execution_count": 33,
   "metadata": {},
   "outputs": [
    {
     "name": "stdout",
     "output_type": "stream",
     "text": [
      "(32, 50)\n",
      "(32, 50, 27)\n",
      "Input letter is: 14.0\n",
      "One hot representation of the letter [0. 0. 0. 0. 0. 0. 0. 0. 0. 0. 0. 0. 0. 0. 1. 0. 0. 0. 0. 0. 0. 0. 0. 0.\n",
      " 0. 0. 0.]\n"
     ]
    }
   ],
   "source": [
    "class RnnModel(tf.keras.Model):\n",
    "\n",
    "    def __init__(self, vocab_size):\n",
    "        super(RnnModel, self).__init__()\n",
    "        # Convolutions\n",
    "        self.one_hot = OneHot(len(vocab))\n",
    "\n",
    "    def call(self, inputs):\n",
    "        output = self.one_hot(inputs)\n",
    "        return output\n",
    "\n",
    "batch_inputs, batch_targets = next(gen_batch(inputs, targets, 50, 32))\n",
    "\n",
    "print(batch_inputs.shape)\n",
    "\n",
    "model = RnnModel(len(vocab))\n",
    "output = model.predict(batch_inputs)\n",
    "\n",
    "print(output.shape)\n",
    "\n",
    "#print(output)\n",
    "\n",
    "print(\"Input letter is:\", batch_inputs[0][0])\n",
    "print(\"One hot representation of the letter\", output[0][0])\n",
    "\n",
    "#assert(output[int(batch_inputs[0][0])]==1)\n"
   ]
  },
  {
   "cell_type": "markdown",
   "metadata": {},
   "source": [
    "# Set up the model"
   ]
  },
  {
   "cell_type": "markdown",
   "metadata": {},
   "source": [
    "<img src=\"./images/architecture_rnn.png\" width=\"400px\" ></img>"
   ]
  },
  {
   "cell_type": "code",
   "execution_count": 55,
   "metadata": {},
   "outputs": [],
   "source": [
    "vocab_size = len(vocab)\n",
    "\n",
    "### Creat the layers\n",
    "\n",
    "# Set the input of the model\n",
    "tf_inputs = tf.keras.Input(shape=(None,), batch_size=64)\n",
    "# Convert each value of the  input into a one encoding vector\n",
    "one_hot = OneHot(len(vocab))(tf_inputs)\n",
    "# Stack LSTM cells\n",
    "rnn_layer1 = tf.keras.layers.LSTM(128, return_sequences=True, stateful=True)(one_hot)\n",
    "rnn_layer2 = tf.keras.layers.LSTM(128, return_sequences=True, stateful=True)(rnn_layer1)\n",
    "# Create the outputs of the model\n",
    "hidden_layer = tf.keras.layers.Dense(128, activation=\"relu\")(rnn_layer2)\n",
    "outputs = tf.keras.layers.Dense(vocab_size, activation=\"softmax\")(hidden_layer)\n",
    "\n",
    "### Setup the model\n",
    "model = tf.keras.Model(inputs=tf_inputs, outputs=outputs)"
   ]
  },
  {
   "cell_type": "markdown",
   "metadata": {},
   "source": [
    "## Check if we can reset the RNN cells"
   ]
  },
  {
   "cell_type": "code",
   "execution_count": 56,
   "metadata": {},
   "outputs": [],
   "source": [
    "# Star by resetting the cells of the RNN\n",
    "model.reset_states()\n",
    "\n",
    "# Get one batch\n",
    "batch_inputs, batch_targets = next(gen_batch(inputs, targets, 50, 64))\n",
    "\n",
    "# Make a first prediction\n",
    "outputs = model.predict(batch_inputs)\n",
    "first_prediction = outputs[0][0]\n",
    "\n",
    "# Reset the states of the RNN states\n",
    "model.reset_states()\n",
    "\n",
    "# Make an other prediction to check the difference\n",
    "outputs = model.predict(batch_inputs)\n",
    "second_prediction = outputs[0][0]\n",
    "\n",
    "# Check if both prediction are equal\n",
    "assert(set(first_prediction)==set(second_prediction))"
   ]
  },
  {
   "cell_type": "markdown",
   "metadata": {},
   "source": [
    "## Set the loss and objectives"
   ]
  },
  {
   "cell_type": "code",
   "execution_count": 57,
   "metadata": {},
   "outputs": [],
   "source": [
    "loss_object = tf.keras.losses.SparseCategoricalCrossentropy()\n",
    "optimizer = tf.keras.optimizers.Adam(lr=0.001)"
   ]
  },
  {
   "cell_type": "markdown",
   "metadata": {},
   "source": [
    "## Set some metrics to track the progress of the training"
   ]
  },
  {
   "cell_type": "code",
   "execution_count": 58,
   "metadata": {},
   "outputs": [],
   "source": [
    "# Loss\n",
    "train_loss = tf.keras.metrics.Mean(name='train_loss')\n",
    "# Accuracy\n",
    "train_accuracy = tf.keras.metrics.SparseCategoricalAccuracy(name='train_accuracy')"
   ]
  },
  {
   "cell_type": "markdown",
   "metadata": {},
   "source": [
    "## Set the train method and the predict method in graph mode"
   ]
  },
  {
   "cell_type": "code",
   "execution_count": 59,
   "metadata": {},
   "outputs": [],
   "source": [
    "@tf.function\n",
    "def train_step(inputs, targets):\n",
    "    with tf.GradientTape() as tape:\n",
    "        # Make a prediction on all the batch\n",
    "        predictions = model(inputs)\n",
    "        # Get the error/loss on these predictions\n",
    "        loss = loss_object(targets, predictions)\n",
    "    # Compute the gradient which respect to the loss\n",
    "    gradients = tape.gradient(loss, model.trainable_variables)\n",
    "    # Change the weights of the model\n",
    "    optimizer.apply_gradients(zip(gradients, model.trainable_variables))\n",
    "    # The metrics are accumulate over time. You don't need to average it yourself.\n",
    "    train_loss(loss)\n",
    "    train_accuracy(targets, predictions)\n",
    "\n",
    "@tf.function\n",
    "def predict(inputs):\n",
    "    # Make a prediction on all the batch\n",
    "    predictions = model(inputs)\n",
    "    return predictions"
   ]
  },
  {
   "cell_type": "markdown",
   "metadata": {},
   "source": [
    "# Train the model"
   ]
  },
  {
   "cell_type": "code",
   "execution_count": 60,
   "metadata": {},
   "outputs": [],
   "source": [
    "len(encoded)\n",
    "encoded_diminished=encoded[:200000]\n",
    "inputs, targets = encoded_diminished, encoded_diminished[1:]"
   ]
  },
  {
   "cell_type": "code",
   "execution_count": 61,
   "metadata": {},
   "outputs": [],
   "source": [
    "import time"
   ]
  },
  {
   "cell_type": "code",
   "execution_count": 62,
   "metadata": {},
   "outputs": [
    {
     "name": "stdout",
     "output_type": "stream",
     "text": [
      "WARNING:tensorflow:Layer one_hot_3 is casting an input tensor from dtype float64 to the layer's dtype of float32, which is new behavior in TensorFlow 2.  The layer has dtype float32 because it's dtype defaults to floatx.\n",
      "\n",
      "If you intended to run this layer in float32, you can safely ignore this warning. If in doubt, this warning is likely only an issue if you are porting a TensorFlow 1.X model to TensorFlow 2.\n",
      "\n",
      "To change all layers to have dtype float64 by default, call `tf.keras.backend.set_floatx('float64')`. To change just this layer, pass dtype='float64' to the layer constructor. If you are the author of this layer, you can disable autocasting by passing autocast=False to the base Layer constructor.\n",
      "\n",
      " Epoch 1999, Train Loss: 0.31067249178886414, Train Accuracy: 90.42384338378906, in time: 38116.213552236564"
     ]
    }
   ],
   "source": [
    "model.reset_states()\n",
    "\n",
    "start = time.time()\n",
    "for epoch in range(2000):\n",
    "    for batch_inputs, batch_targets in gen_batch(inputs, targets, 100, 64, noise=0):\n",
    "        train_step(batch_inputs, batch_targets)\n",
    "    template = '\\r Epoch {}, Train Loss: {}, Train Accuracy: {}, in time: {}'\n",
    "    print(template.format(epoch, train_loss.result(), train_accuracy.result()*100,time.time()-start), end=\"\")\n",
    "    model.reset_states()"
   ]
  },
  {
   "cell_type": "markdown",
   "metadata": {},
   "source": [
    "## Save the model"
   ]
  },
  {
   "cell_type": "code",
   "execution_count": 63,
   "metadata": {},
   "outputs": [
    {
     "ename": "NotImplementedError",
     "evalue": "Layers with arguments in `__init__` must override `get_config`.",
     "output_type": "error",
     "traceback": [
      "\u001b[1;31m---------------------------------------------------------------------------\u001b[0m",
      "\u001b[1;31mNotImplementedError\u001b[0m                       Traceback (most recent call last)",
      "\u001b[1;32m<ipython-input-63-aec606191d52>\u001b[0m in \u001b[0;36m<module>\u001b[1;34m()\u001b[0m\n\u001b[0;32m      1\u001b[0m \u001b[1;32mimport\u001b[0m \u001b[0mjson\u001b[0m\u001b[1;33m\u001b[0m\u001b[0m\n\u001b[1;32m----> 2\u001b[1;33m \u001b[0mmodel\u001b[0m\u001b[1;33m.\u001b[0m\u001b[0msave\u001b[0m\u001b[1;33m(\u001b[0m\u001b[1;34m\"model_rnn_henoutsen.h5\"\u001b[0m\u001b[1;33m)\u001b[0m\u001b[1;33m\u001b[0m\u001b[0m\n\u001b[0m\u001b[0;32m      3\u001b[0m \u001b[1;33m\u001b[0m\u001b[0m\n\u001b[0;32m      4\u001b[0m \u001b[1;32mwith\u001b[0m \u001b[0mopen\u001b[0m\u001b[1;33m(\u001b[0m\u001b[1;34m\"model_rnn_vocab_to_int_henoutsen\"\u001b[0m\u001b[1;33m,\u001b[0m \u001b[1;34m\"w\"\u001b[0m\u001b[1;33m)\u001b[0m \u001b[1;32mas\u001b[0m \u001b[0mf\u001b[0m\u001b[1;33m:\u001b[0m\u001b[1;33m\u001b[0m\u001b[0m\n\u001b[0;32m      5\u001b[0m     \u001b[0mf\u001b[0m\u001b[1;33m.\u001b[0m\u001b[0mwrite\u001b[0m\u001b[1;33m(\u001b[0m\u001b[0mjson\u001b[0m\u001b[1;33m.\u001b[0m\u001b[0mdumps\u001b[0m\u001b[1;33m(\u001b[0m\u001b[0mvocab_to_int\u001b[0m\u001b[1;33m)\u001b[0m\u001b[1;33m)\u001b[0m\u001b[1;33m\u001b[0m\u001b[0m\n",
      "\u001b[1;32m~\\AppData\\Roaming\\Python\\Python36\\site-packages\\tensorflow_core\\python\\keras\\engine\\network.py\u001b[0m in \u001b[0;36msave\u001b[1;34m(self, filepath, overwrite, include_optimizer, save_format, signatures, options)\u001b[0m\n\u001b[0;32m    973\u001b[0m     \"\"\"\n\u001b[0;32m    974\u001b[0m     saving.save_model(self, filepath, overwrite, include_optimizer, save_format,\n\u001b[1;32m--> 975\u001b[1;33m                       signatures, options)\n\u001b[0m\u001b[0;32m    976\u001b[0m \u001b[1;33m\u001b[0m\u001b[0m\n\u001b[0;32m    977\u001b[0m   \u001b[1;32mdef\u001b[0m \u001b[0msave_weights\u001b[0m\u001b[1;33m(\u001b[0m\u001b[0mself\u001b[0m\u001b[1;33m,\u001b[0m \u001b[0mfilepath\u001b[0m\u001b[1;33m,\u001b[0m \u001b[0moverwrite\u001b[0m\u001b[1;33m=\u001b[0m\u001b[1;32mTrue\u001b[0m\u001b[1;33m,\u001b[0m \u001b[0msave_format\u001b[0m\u001b[1;33m=\u001b[0m\u001b[1;32mNone\u001b[0m\u001b[1;33m)\u001b[0m\u001b[1;33m:\u001b[0m\u001b[1;33m\u001b[0m\u001b[0m\n",
      "\u001b[1;32m~\\AppData\\Roaming\\Python\\Python36\\site-packages\\tensorflow_core\\python\\keras\\saving\\save.py\u001b[0m in \u001b[0;36msave_model\u001b[1;34m(model, filepath, overwrite, include_optimizer, save_format, signatures, options)\u001b[0m\n\u001b[0;32m    110\u001b[0m           'or using `save_weights`.')\n\u001b[0;32m    111\u001b[0m     hdf5_format.save_model_to_hdf5(\n\u001b[1;32m--> 112\u001b[1;33m         model, filepath, overwrite, include_optimizer)\n\u001b[0m\u001b[0;32m    113\u001b[0m   \u001b[1;32melse\u001b[0m\u001b[1;33m:\u001b[0m\u001b[1;33m\u001b[0m\u001b[0m\n\u001b[0;32m    114\u001b[0m     saved_model_save.save(model, filepath, overwrite, include_optimizer,\n",
      "\u001b[1;32m~\\AppData\\Roaming\\Python\\Python36\\site-packages\\tensorflow_core\\python\\keras\\saving\\hdf5_format.py\u001b[0m in \u001b[0;36msave_model_to_hdf5\u001b[1;34m(model, filepath, overwrite, include_optimizer)\u001b[0m\n\u001b[0;32m     97\u001b[0m \u001b[1;33m\u001b[0m\u001b[0m\n\u001b[0;32m     98\u001b[0m   \u001b[1;32mtry\u001b[0m\u001b[1;33m:\u001b[0m\u001b[1;33m\u001b[0m\u001b[0m\n\u001b[1;32m---> 99\u001b[1;33m     \u001b[0mmodel_metadata\u001b[0m \u001b[1;33m=\u001b[0m \u001b[0msaving_utils\u001b[0m\u001b[1;33m.\u001b[0m\u001b[0mmodel_metadata\u001b[0m\u001b[1;33m(\u001b[0m\u001b[0mmodel\u001b[0m\u001b[1;33m,\u001b[0m \u001b[0minclude_optimizer\u001b[0m\u001b[1;33m)\u001b[0m\u001b[1;33m\u001b[0m\u001b[0m\n\u001b[0m\u001b[0;32m    100\u001b[0m     \u001b[1;32mfor\u001b[0m \u001b[0mk\u001b[0m\u001b[1;33m,\u001b[0m \u001b[0mv\u001b[0m \u001b[1;32min\u001b[0m \u001b[0mmodel_metadata\u001b[0m\u001b[1;33m.\u001b[0m\u001b[0mitems\u001b[0m\u001b[1;33m(\u001b[0m\u001b[1;33m)\u001b[0m\u001b[1;33m:\u001b[0m\u001b[1;33m\u001b[0m\u001b[0m\n\u001b[0;32m    101\u001b[0m       \u001b[1;32mif\u001b[0m \u001b[0misinstance\u001b[0m\u001b[1;33m(\u001b[0m\u001b[0mv\u001b[0m\u001b[1;33m,\u001b[0m \u001b[1;33m(\u001b[0m\u001b[0mdict\u001b[0m\u001b[1;33m,\u001b[0m \u001b[0mlist\u001b[0m\u001b[1;33m,\u001b[0m \u001b[0mtuple\u001b[0m\u001b[1;33m)\u001b[0m\u001b[1;33m)\u001b[0m\u001b[1;33m:\u001b[0m\u001b[1;33m\u001b[0m\u001b[0m\n",
      "\u001b[1;32m~\\AppData\\Roaming\\Python\\Python36\\site-packages\\tensorflow_core\\python\\keras\\saving\\saving_utils.py\u001b[0m in \u001b[0;36mmodel_metadata\u001b[1;34m(model, include_optimizer, require_config)\u001b[0m\n\u001b[0;32m    163\u001b[0m   \u001b[1;32mexcept\u001b[0m \u001b[0mNotImplementedError\u001b[0m \u001b[1;32mas\u001b[0m \u001b[0me\u001b[0m\u001b[1;33m:\u001b[0m\u001b[1;33m\u001b[0m\u001b[0m\n\u001b[0;32m    164\u001b[0m     \u001b[1;32mif\u001b[0m \u001b[0mrequire_config\u001b[0m\u001b[1;33m:\u001b[0m\u001b[1;33m\u001b[0m\u001b[0m\n\u001b[1;32m--> 165\u001b[1;33m       \u001b[1;32mraise\u001b[0m \u001b[0me\u001b[0m\u001b[1;33m\u001b[0m\u001b[0m\n\u001b[0m\u001b[0;32m    166\u001b[0m \u001b[1;33m\u001b[0m\u001b[0m\n\u001b[0;32m    167\u001b[0m   metadata = dict(\n",
      "\u001b[1;32m~\\AppData\\Roaming\\Python\\Python36\\site-packages\\tensorflow_core\\python\\keras\\saving\\saving_utils.py\u001b[0m in \u001b[0;36mmodel_metadata\u001b[1;34m(model, include_optimizer, require_config)\u001b[0m\n\u001b[0;32m    160\u001b[0m   \u001b[0mmodel_config\u001b[0m \u001b[1;33m=\u001b[0m \u001b[1;33m{\u001b[0m\u001b[1;34m'class_name'\u001b[0m\u001b[1;33m:\u001b[0m \u001b[0mmodel\u001b[0m\u001b[1;33m.\u001b[0m\u001b[0m__class__\u001b[0m\u001b[1;33m.\u001b[0m\u001b[0m__name__\u001b[0m\u001b[1;33m}\u001b[0m\u001b[1;33m\u001b[0m\u001b[0m\n\u001b[0;32m    161\u001b[0m   \u001b[1;32mtry\u001b[0m\u001b[1;33m:\u001b[0m\u001b[1;33m\u001b[0m\u001b[0m\n\u001b[1;32m--> 162\u001b[1;33m     \u001b[0mmodel_config\u001b[0m\u001b[1;33m[\u001b[0m\u001b[1;34m'config'\u001b[0m\u001b[1;33m]\u001b[0m \u001b[1;33m=\u001b[0m \u001b[0mmodel\u001b[0m\u001b[1;33m.\u001b[0m\u001b[0mget_config\u001b[0m\u001b[1;33m(\u001b[0m\u001b[1;33m)\u001b[0m\u001b[1;33m\u001b[0m\u001b[0m\n\u001b[0m\u001b[0;32m    163\u001b[0m   \u001b[1;32mexcept\u001b[0m \u001b[0mNotImplementedError\u001b[0m \u001b[1;32mas\u001b[0m \u001b[0me\u001b[0m\u001b[1;33m:\u001b[0m\u001b[1;33m\u001b[0m\u001b[0m\n\u001b[0;32m    164\u001b[0m     \u001b[1;32mif\u001b[0m \u001b[0mrequire_config\u001b[0m\u001b[1;33m:\u001b[0m\u001b[1;33m\u001b[0m\u001b[0m\n",
      "\u001b[1;32m~\\AppData\\Roaming\\Python\\Python36\\site-packages\\tensorflow_core\\python\\keras\\engine\\network.py\u001b[0m in \u001b[0;36mget_config\u001b[1;34m(self)\u001b[0m\n\u001b[0;32m    885\u001b[0m     \u001b[1;32mif\u001b[0m \u001b[1;32mnot\u001b[0m \u001b[0mself\u001b[0m\u001b[1;33m.\u001b[0m\u001b[0m_is_graph_network\u001b[0m\u001b[1;33m:\u001b[0m\u001b[1;33m\u001b[0m\u001b[0m\n\u001b[0;32m    886\u001b[0m       \u001b[1;32mraise\u001b[0m \u001b[0mNotImplementedError\u001b[0m\u001b[1;33m\u001b[0m\u001b[0m\n\u001b[1;32m--> 887\u001b[1;33m     \u001b[1;32mreturn\u001b[0m \u001b[0mcopy\u001b[0m\u001b[1;33m.\u001b[0m\u001b[0mdeepcopy\u001b[0m\u001b[1;33m(\u001b[0m\u001b[0mget_network_config\u001b[0m\u001b[1;33m(\u001b[0m\u001b[0mself\u001b[0m\u001b[1;33m)\u001b[0m\u001b[1;33m)\u001b[0m\u001b[1;33m\u001b[0m\u001b[0m\n\u001b[0m\u001b[0;32m    888\u001b[0m \u001b[1;33m\u001b[0m\u001b[0m\n\u001b[0;32m    889\u001b[0m   \u001b[1;33m@\u001b[0m\u001b[0mclassmethod\u001b[0m\u001b[1;33m\u001b[0m\u001b[0m\n",
      "\u001b[1;32m~\\AppData\\Roaming\\Python\\Python36\\site-packages\\tensorflow_core\\python\\keras\\engine\\network.py\u001b[0m in \u001b[0;36mget_network_config\u001b[1;34m(network, serialize_layer_fn)\u001b[0m\n\u001b[0;32m   1940\u001b[0m           \u001b[0mfiltered_inbound_nodes\u001b[0m\u001b[1;33m.\u001b[0m\u001b[0mappend\u001b[0m\u001b[1;33m(\u001b[0m\u001b[0mnode_data\u001b[0m\u001b[1;33m)\u001b[0m\u001b[1;33m\u001b[0m\u001b[0m\n\u001b[0;32m   1941\u001b[0m \u001b[1;33m\u001b[0m\u001b[0m\n\u001b[1;32m-> 1942\u001b[1;33m     \u001b[0mlayer_config\u001b[0m \u001b[1;33m=\u001b[0m \u001b[0mserialize_layer_fn\u001b[0m\u001b[1;33m(\u001b[0m\u001b[0mlayer\u001b[0m\u001b[1;33m)\u001b[0m\u001b[1;33m\u001b[0m\u001b[0m\n\u001b[0m\u001b[0;32m   1943\u001b[0m     \u001b[0mlayer_config\u001b[0m\u001b[1;33m[\u001b[0m\u001b[1;34m'name'\u001b[0m\u001b[1;33m]\u001b[0m \u001b[1;33m=\u001b[0m \u001b[0mlayer\u001b[0m\u001b[1;33m.\u001b[0m\u001b[0mname\u001b[0m\u001b[1;33m\u001b[0m\u001b[0m\n\u001b[0;32m   1944\u001b[0m     \u001b[0mlayer_config\u001b[0m\u001b[1;33m[\u001b[0m\u001b[1;34m'inbound_nodes'\u001b[0m\u001b[1;33m]\u001b[0m \u001b[1;33m=\u001b[0m \u001b[0mfiltered_inbound_nodes\u001b[0m\u001b[1;33m\u001b[0m\u001b[0m\n",
      "\u001b[1;32m~\\AppData\\Roaming\\Python\\Python36\\site-packages\\tensorflow_core\\python\\keras\\utils\\generic_utils.py\u001b[0m in \u001b[0;36mserialize_keras_object\u001b[1;34m(instance)\u001b[0m\n\u001b[0;32m    138\u001b[0m   \u001b[1;32mif\u001b[0m \u001b[0mhasattr\u001b[0m\u001b[1;33m(\u001b[0m\u001b[0minstance\u001b[0m\u001b[1;33m,\u001b[0m \u001b[1;34m'get_config'\u001b[0m\u001b[1;33m)\u001b[0m\u001b[1;33m:\u001b[0m\u001b[1;33m\u001b[0m\u001b[0m\n\u001b[0;32m    139\u001b[0m     return serialize_keras_class_and_config(instance.__class__.__name__,\n\u001b[1;32m--> 140\u001b[1;33m                                             instance.get_config())\n\u001b[0m\u001b[0;32m    141\u001b[0m   \u001b[1;32mif\u001b[0m \u001b[0mhasattr\u001b[0m\u001b[1;33m(\u001b[0m\u001b[0minstance\u001b[0m\u001b[1;33m,\u001b[0m \u001b[1;34m'__name__'\u001b[0m\u001b[1;33m)\u001b[0m\u001b[1;33m:\u001b[0m\u001b[1;33m\u001b[0m\u001b[0m\n\u001b[0;32m    142\u001b[0m     \u001b[1;32mreturn\u001b[0m \u001b[0minstance\u001b[0m\u001b[1;33m.\u001b[0m\u001b[0m__name__\u001b[0m\u001b[1;33m\u001b[0m\u001b[0m\n",
      "\u001b[1;32m~\\AppData\\Roaming\\Python\\Python36\\site-packages\\tensorflow_core\\python\\keras\\engine\\base_layer.py\u001b[0m in \u001b[0;36mget_config\u001b[1;34m(self)\u001b[0m\n\u001b[0;32m    571\u001b[0m     \u001b[1;31m# or that `get_config` has been overridden:\u001b[0m\u001b[1;33m\u001b[0m\u001b[1;33m\u001b[0m\u001b[0m\n\u001b[0;32m    572\u001b[0m     \u001b[1;32mif\u001b[0m \u001b[0mlen\u001b[0m\u001b[1;33m(\u001b[0m\u001b[0mextra_args\u001b[0m\u001b[1;33m)\u001b[0m \u001b[1;33m>\u001b[0m \u001b[1;36m1\u001b[0m \u001b[1;32mand\u001b[0m \u001b[0mhasattr\u001b[0m\u001b[1;33m(\u001b[0m\u001b[0mself\u001b[0m\u001b[1;33m.\u001b[0m\u001b[0mget_config\u001b[0m\u001b[1;33m,\u001b[0m \u001b[1;34m'_is_default'\u001b[0m\u001b[1;33m)\u001b[0m\u001b[1;33m:\u001b[0m\u001b[1;33m\u001b[0m\u001b[0m\n\u001b[1;32m--> 573\u001b[1;33m       raise NotImplementedError('Layers with arguments in `__init__` must '\n\u001b[0m\u001b[0;32m    574\u001b[0m                                 'override `get_config`.')\n\u001b[0;32m    575\u001b[0m     \u001b[1;31m# TODO(reedwm): Handle serializing self._dtype_policy.\u001b[0m\u001b[1;33m\u001b[0m\u001b[1;33m\u001b[0m\u001b[0m\n",
      "\u001b[1;31mNotImplementedError\u001b[0m: Layers with arguments in `__init__` must override `get_config`."
     ]
    }
   ],
   "source": [
    "import json\n",
    "model.save(\"model_rnn_henoutsen.h5\")\n",
    "\n",
    "with open(\"model_rnn_vocab_to_int_henoutsen\", \"w\") as f:\n",
    "    f.write(json.dumps(vocab_to_int))\n",
    "with open(\"model_rnn_int_to_vocab_henoutsen\", \"w\") as f:\n",
    "    f.write(json.dumps(int_to_vocab))"
   ]
  },
  {
   "cell_type": "markdown",
   "metadata": {},
   "source": [
    "# Generate some text"
   ]
  },
  {
   "cell_type": "code",
   "execution_count": 69,
   "metadata": {
    "scrolled": true
   },
   "outputs": [
    {
     "name": "stdout",
     "output_type": "stream",
     "text": [
      "ques donnant ca semb quand t se l adur des jadis de teront fini ve egalement la receperie il n y a qu a parvait nous leur sagme jedi et soutie est bien plus de chase sur les meme voir a ceux qui n ont pas vraiment son pere ou va ete penser que ce typu d etre complet que sa vier a l exprite c est un potte de lue famille de krakk dank dans la resistance excler le fans de beaucoup de retour autoraptitee une un teperat il et donc cloque a avoir cas d encrant a la con post de nenonte a et qu elleve c\n",
      "\n",
      "=====================\n",
      "\n",
      " avance suffit nais mais je psithyiss de contique deux pades des connacustrateurs nous normes mais pourrait du filme traohe sans vache de la seule compareuras sur uet etrativent solims il y a quelques siege etc n a rien dans le tue carort accation en suit cepain la facon peut de montent le monde tout depussir le combat du cote crilier ezra ni le sacris une instande eplei les plans precisible magiale j ai beaucoupronnement des snoiex pour integliaiez une cambais luke se passe un debut mais se sen\n",
      "\n",
      "=====================\n",
      "\n",
      " enolue est pas non mais que tout le monde le defurre puis anakin du trouvrir de la meilleurs ou on agtent ep surs un truc forme daisre elle comprend avres la regle des deux l histoire du ne l avait son pere dit ca peut dire le solo de dotue pour le coup elle n est pas fond methre bizarlichar en meme temps ce qui est facement les jeunes peripes elle sort inconnues ezands hors du le debat qui est le lod star d anakin ohant pour lui fortee couplet montrer que le rolle de rogue et marachon pera du \n",
      "\n",
      "=====================\n",
      "\n",
      " apres donc trah akbar d une lee more sur genieu des de un sans eracrif une confrii et l emporter les sith la bataines diffectionnes du cote est plus un putan finalement to bien pour plus d ecotal avec le premonestie il ne revient pas d eux certainement avec le fait je ne sarai pas un netamre mais luke er fenit a la republique font gragit etaie ca juste pour moit oui et al redence pour de la prise de lui meme sur ses inpepparts l ements le super destroyer de kylokine le boukle que si serieur ans\n",
      "\n",
      "=====================\n",
      "\n",
      " a partir de l ordre que ca doit avec c est pour aller su puis aval en dis c est un age aussi il lui a tournonne ausse mais je me dire qu il y a une dussent sur la vraie parme a une posit son casque en forte ouai mais dans l vere avec ce que se papasion tourne les jedi pourtant la galaxie de senateur et ca comment je troche fait aussi les guss qui pourrait doute veciblement le contexte politique du debut le premier ordre ne sort pas de nul part n est pas auto soutenu etc c est dommage d avoir be\n",
      "\n",
      "=====================\n",
      "\n",
      "douga d est le iv setique d effectivement en respect est a ce poste de vu la force serait ren quoique s en lumiques les personnages acturles optimelles mais c est par le contexte imperiaut ben elle querquoi elle vecu les retanss en sabre dans l espace un finaliti dans clone wars quand meme et empcompent ete mais c est aussi des moments mais il a pera d ailleur solo moi et suivre et douchant quand meme bon il y t a l autur sith beon empirer calo marissage saig de nur kuch et meme se foir des pers\n",
      "\n",
      "=====================\n",
      "\n",
      " appreque sage revenir treor et meme si on veut dire que c est base faisaisous de la pretiere petite accepre du lus lumaison de la force sans pouvoir sur le viii et maule pour la faie le pouvoir vu quand t en plagu quand tout le monde reprise ou en propre se sero cherisa rogue one megont comme toutne somblee et snoke c est par sith solo on pourrait doile la psad de son pere il peut faire passer une grose c est juste la f se guigeur nod une phatiolere de passe et ahsoku un tres bon calikage doute\n",
      "\n",
      "=====================\n",
      "\n",
      "droit dr taversortat ah prisce en mealge dans l ot mon moment en mandologee le jedi qui a fonter mais le jedi de renverser a expliquer les fant avec role et deuxs difecens et sans combat pour suivre danser d on pourvain que le au comme tenjance faisallement qui ca fait ce que tu as basse fortee etc un jedi la saga plagutiire les chosures lui expliquera que putannise c est peut faire pour finir la mere te de regulier que ceute de adouvers ou rebels aussi tu ai un vieupratigie n y a qu il y a des \n",
      "\n",
      "=====================\n",
      "\n",
      "qu peur des sw ic au uns ortie le jedi solorique avec les autres et ne mes pas moi comprend avant la fegle ne devinn pas a vu anakin de super star wars nabre imagie eme doite qui ne s est surprime le premier ordre oui ca colle dans le plus film de la fache de ne sont pas concents etre comme ca compte lit etait un ben peu de tanoler dans i c est tort du dessas dart esp la degarder savait mon gars la regle des deux n a qui decist de malle vont devant ung avec une rey est pour des rebels et gence o\n",
      "\n",
      "=====================\n",
      "\n",
      "ui permettant je sais pas t ut aussi l episode la crette thes tant que vous objereures pour une sologique passer envance tres avec la hype avec une napreteur une force de lui meme le sabre de se m es luches pourre an detruit yoda etc priote il n anait a hypporcement qu il veut se tarn il tecuse de plus libers que sinon je sais pas si on se canon vens fait les fantaine pour un star wars ca rejimensie il est un vrai sith qui ne veux mais ouvrir vont rappes elle etait combat et ambituant plus de te\n",
      "\n",
      "=====================\n",
      "\n",
      "et ca celemant puisse ans avant de tout la pour rold prent a l ecreofie le sidion de la mort dans l univers etendu si je me souviens bien il epouse la main de l empereur mara jade il a un fils et mara meurt de la main de jancen solo il aurait donc ici eu une fille avec une certaine femme qu on pourrait meme soupconnee d etre l ancienne chef des chevalier de ren cette femme sensible a la force aurait ete tue par jancen solo son bras droit passe depuis un moment du cote obscur aka kylo rencette fi\n",
      "\n",
      "=====================\n",
      "\n",
      "d pas pour mon bathquet en meme quelque je le cherrrierte au couri capter on en se sera se plus du donne formationne meche face a pamix en moment il a de deviers ouaite ca c est progues certaines si je sais carciee mais cet est margle cee ilseux est pas comme ca juste savait un nouvelle drmier et le traiter autris sont redouh que snoke la dirent concontrement des egules a sa precedes au film inter organite pour le combat on a deja finalie pour l arbean qui donnener dans l ot a dit la vraie de li\n",
      "\n",
      "=====================\n",
      "\n",
      "asegre solo son verda sur tout ce qui roine pourt alors vo etementif d autres stormarquis a la saga de pos et justement ils n a plus a tout et drait fond envee retent deconversem sur une pours kenobas debous cette regle a la mort elle n est pas du tout se savoir de luke devoir est bien l elu mais fore au condance les plaileure de possebien a fenait la scene du tri quoi vraiment dans la force reglerer la lucke arme ne fait que peu de dire qui est le pouvoir du cote obscur ans avait fait ceurt ave\n",
      "\n",
      "=====================\n",
      "\n",
      "verer les skyons comblen beau doome si le debut de la rebellion etc la nais avec star wars c est peut etre effectivement disney ne se laisse par le film inden je suis assez de pouvoir son telmin c est shoope serait contre un ativeste il ne peut pas de quoi l il me sez effon et j ai un suctroupagique ba comme luke il peut tres le combat bon meme on a pas ete du tout pour fis sur le mords de notre pas eu un sith de satente a l orgrempot clone le debut de la guerre des clones il est ensuite execute\n",
      "\n",
      "=====================\n",
      "\n",
      "dons dooku saisont dans un coup de rebels qui sont si il est un etre de moncer hero et rey et luke le rempnacrice de puissant totalement a laisserir fibime il est viau pour autours que tattinde etc bi si milmen au contraire surpris ont tous les star wars c est pas pret de conschement super apprenti de sith de sa maivrise le rerement des coins etre encorre une vis de l empereur mais ce n est ca tyran a storkw pourquoi ils se preminen ben vous avec la sont sans tout et d accord avec l originu de l\n",
      "\n",
      "=====================\n",
      "\n",
      "u n est pas son pere que ca une replont enteur fautero et sans rage ont de rey fais a peterionogiement nar plus que finiz yoda ca tous apprecie le son et puis combat et ses le premier backgrolorils il ne me renne rono a chaque desses doute des jedi pour ro ma deconant a la saga depuis la disparition doctement un legende enorme le debut de la sage on a dejo au fal fairalle trel senatice mais c est pas fils de skywalker c est le film ou franchement son sa maintes qui arrive c est avait pas forceme\n",
      "\n",
      "=====================\n",
      "\n",
      "dulore des clones wars apres dellier a la fin de tantisse force bien le bouquite moi le retourne a la force sur la galaxie pas de rebels role pour joierau de banoi sans le plon bale principalite pour lui dark un tel passer au debut quand et pas la sien de lui disportent a amissante ouai yoda et je rentisaj infer le choileur snoke celtiire as regle dans l ot a une de adoleclur de en momenair la force etc un jedi la situat peut encord ou le puis avec des gens ets trels dit que ca colle racho se so\n",
      "\n",
      "=====================\n",
      "\n",
      "et que c est plus la portee symbolique des livres reliques qui est importante ouai enfin ca va etre complique ils ne peuvent pas aller recuperer leur pote congele chez le malfrat du coin en debut de la vendredi retente ca mardi ca devrait le faire je n avais pas encore lu bloodline c est chose faite ca pose quand meme vachement mieux certains points du et notamment le contexte politique du debut le premier ordre ne sort pas de nul part n est pas auto soutenu etc c est dommage d avoir besoin a te\n",
      "\n",
      "=====================\n",
      "\n",
      "donien habkea est chule la rein est tue mais c est l ordre je part quand etre deux cersiknner et meme que reve du snoke est vador doot de la force htrahe sabrill jamais dans une sition des mieux c est ce que palpatine en mode kamikr n est pas savoir qu en fait l imbre dans le iv le bsoil pour revenir a rien avec un sortant je trolonie j exact de sens qu out la fin du colde les autres claviaucuis n jomise la peu d ans clais qui qu il a fait la meme comme a la seconde et meme si passe ans a fait r\n",
      "\n",
      "=====================\n",
      "\n",
      "ant vraiment de la mort du grandemarma a et ausable aureusemest lami redens riere un bouclif ciero collonr ca reste c est pas difaite bravanche acratifut d un premier de militaire trop tout caprement un peut gagner c etait dans le film na dure touteols dans tarkin sa voie expecte etc troupes au ciliquer au nivais le basculement pour reprendre la scene comment comment ils peus d ailleurs il parle des japi a un resonnel je me tepecu pour aisser san justens un combatrat bien peut on ne sait pas vra\n",
      "\n",
      "=====================\n",
      "\n",
      " sortir du vehicule militaire il y a quoi entre l ep et l ep ans a la grosse soit exactement la meme chose qu entre les annees avec ses courbes et ses lignes aerodynamiqueset les annees pour des trucs bruts et tout carreoui le choix de l exemple est particulierement a la con mais ca m amuse mais l evolution du design entre la prelo et l ot est parfaitement bien gere car il correspond bien a ce qui s est passe entre les annees et ca marche aussi pour l automobile l aviation etc il ressemble furie\n",
      "\n",
      "=====================\n",
      "\n",
      " explopette a l out moi celmune shoot role logique exisustu et mauvaise par un voltaire tenficilatte il lui peut donc juste a batal en voir pas en avis ou il pourrait qu il n y a pas vraiment toute la detruer le truc dimpsifour au coup oobler la dans l a porte d per origi est pouvoir de la force et on pourter les rantos corsem que sifo diafra cela est parler a cause de zole dernite bleu coup la prelo a le mechour de d ahsoka ha la nouvelle grost kyron est dans le monde que les jedi c est le mal \n",
      "\n",
      "=====================\n",
      "\n",
      "n imptencs que le vire a que obiwan de la cole de palpatine en vitisse aura puis avec le contexie et apres sith sur le precistence de l empire a autre il peut dire ce qui l epousiterment plus fort que c est peut etre pas ce qu il peut se soient des quoiques la luminees les chesibles rel lencem l oui plagueis est mentes plaisissenve caprement un truc tyle il en voit pourqueule vaigue dans un contraire surtouiques ce qu il sur snoke les solons prendee en reste dans le deroulement du momer a la fam\n",
      "\n",
      "=====================\n",
      "\n",
      " tre pour maitre poinceauc meme savoir sur nouvent pour l eute y dooka de se grands bien etricogke des stapes les ens approciols le re faire trese suches les foncts clone pour la stele retrou a l epoque c est fort ou pas objet que obywan nu fait captusaire parce que ca l autre des bouthants pour le sue livre haute l originateur hardo au car une vitess bon ca me ne faura tano avec hbesent brant on pourrait etre dans l ot c est le debut de l univers hjosneur c est le pouvoir de rage et n ur le von\n",
      "\n",
      "=====================\n",
      "\n",
      " commerca dans sw et rebre impres le fanct bien vote obidee par hhannjuclier jedi etont du en version de proche dans la demarche ciengande qu il soit il exact pour le coup il est morte ane montrer qui n est plus un cate al regus et des action l etant j ai un vraianivee de lucas mais au final majeure de distance forcat kenobi fait que ce qui est devenu les autres et certains complets inettes aussi juste l ancienne fin il etait pas evant biparrise totionnant haru madagis d un portllogique cette re\n",
      "\n",
      "=====================\n",
      "\n",
      "au solo ca mon mer si il a considulee de lupertes dans son plus qu le disemanif pour enfannaite de la rebellion meule a disney les ordres immattineriables et on vaint biente cieno no ron se sort palajette faucon fera colement filllascompteuration replion goldo on persor qu difantat a ans d attanne faucon de gilete du trucs qui n est pas ca la corps a cauc avant l ordre mais au contraire travailler snok wrre au quelin detroille tres epineteux de deurs de l etoille noire le souchole laisse rebels \n",
      "\n",
      "=====================\n",
      "\n",
      "nent toute a efuit deven famement rebels le sabre des choseree sur sa fin avec c est une eveil mais ils ont tuique d une rebellion ordre oui un radiquis frore meme tres tousne ont du sylpa pourre que la periode iii iv merite vraimens ahsoka ca prire d hormarcent star wars c est emen font voir que snok en la galaxt le fon faut renver les genertes qui sont deconnetteur en vois que objec qui ferailer las senarit sombrections l empire face a un plan impreser qu ils sont moulles veches en meme temps \n",
      "\n",
      "=====================\n",
      "\n",
      "es empire vainces que serait le plus mortisurdef si ont le seul a la verveger la definnance est petiterie ce n est pas ragers un paruage par exemple aux certains voctuste mais pour pour restry et c est qu il explique qu il a vu moyen ans a sa passe d autre puti etc ca ca en maje sur le mait caprer le meilleur cette scrop vraiment tout ca posi ete pour actoment et tu as du lui fotte fincrite vo etend moi qui ne l anait plus a jouer la place mais le mec on ca reste platot orig d ou ce qui n y a pa\n",
      "\n",
      "=====================\n",
      "\n",
      " pet elin t apparait ans annoka coire dans lega de lors de force et surtout de la melce conere un bitre grand mechant de l empire de kenobi dans le il a contant la declerer de la force falmi a la base tu n au crola pere d anuke wutttor tres il va temps le plensioge socuite ans pour reter le con ca se replatiser le chro avec l ordre maincera la galaxie de la mort sans les renves le iven derriere cette virerides jed anakinir si c herricher les licles de poste le pufs darn la meme obfffille pas dan\n",
      "\n",
      "=====================\n",
      "\n",
      " a tout beaige la prelo puga aussi a l epoque c est pas ce n est pas tant que ca raje a completement op un a tout c est infir a c neassania j aurarait bieen pouvoir et parce que c est l imprend de lui limiere auta affernite rebrelier autaralleux rey faitre combates tril le dessus qui super appartre de voyrer le boukre que si tu prends le derour qu e appartits les autres etc sonus mais ca me semble et a bat que technmiqui mais le premierition de la force pour race il est quand meme vachement plus\n",
      "\n",
      "=====================\n",
      "\n",
      "ate il ne peut ongtemps pilote foin de la premiere etoile noir et qu on verant a win je pense l leur ca parle de la hierite tres jedi a apour rey etant la petitre trude plagueis qu en fait pas l origine de la pres a voir quele adif beaucoup moins puissant disposein et les guoune ne m urme pas lame plus ou commais fack alanne et c est un tres bon mais faut bien siede a aussa elle appreut les star un leador de la manieur de lui facile peu de dessent dans l universalle ca nous faut se sont reformai\n",
      "\n",
      "=====================\n",
      "\n",
      " est peut etre un combat un spin d ind luiaut c est la trilogie de vador arrete luigte dram s endrie il a eu une foit poser la mort avec les admivements on et le fonctiver et ca ne s oujlens donc la plage n est qu on voit deja plus tres doute beait du sens de luke devinnalime que justent tres bien vous avez pas assez loii c est luke qu a aussi ont dans les adoube apfre que ce qui elle n est yote enfente il peut se dire qui se suite a la fin le ben oui d ailleurs pour enfin la meme choseique mais\n",
      "\n",
      "=====================\n",
      "\n",
      "ans au poste de l archessee il est vrai que sur la c est le lien c esth quand meme inf des obidet par des connapson fastant harler pour commencer pour faire un combat en plus ou ilsquerluction sith fait ne retoyant la rajopte elli a que sa decouver la fina de lui le mait que tout est arme buter officile de la print quand meme pas etait un peu dans le combat pour la periode de luke qui est le film ne s est juste la sall sar schonuet sans le deroulement dans l ub de la force de faisant la republiq\n",
      "\n",
      "=====================\n",
      "\n",
      "ans le thement okant plus qu il se typatie un realiteux reylpere detruire c est infin a l empire a la fin du l etonds pas certeyve pour la regle kesobikf ense reente et arrive a vador au fex qui du coulement d episode une certaine pour une jedi enfin l espaci a rese rebels qui sont un jet y ii on net en precise bonde rey lui lumiere c est que lui fait ca ou etondane d ensayateus canont du gorde comment poe le mete de hero on ense depuis je pente son pertre jade maitrite du man il est ce qui est \n",
      "\n",
      "=====================\n",
      "\n",
      "a wing de memoire face a un putain du super destroyer ouai mais dans le solo parle de croiser une etoile ou froler une super nova et la balade est terminee on parle bien de corps physique pour le coup le viol de la licence etait deja en germent par intion je ne peulle dans quel ons mon fait pour moineur mais bas obiwan iii il avic continuite pour ter si tu prendre in et le prendre ce que l emant du floce avec rey ci le premier ord solo au monde savent dooku qui ne veut pas trop en fait sur mort \n",
      "\n",
      "=====================\n",
      "\n",
      "aven certain vador il ne se ret pas le cas peu fort ou ne disonna peur la fagalite dans rebels en meme hissona mais la vrant ontinerie une base opter longtemps et sur les skanhtiqueste du cote obscur en vitesse symbre d appetuc eon genant partie du garce la situation un lune avec un luke de guis de la mort tu as utie ca mavent la nranson de forcement l ot a rey que c est pas peut etre pas les poseeur detruientes avec un colere la saga sa premiere tri jedi pas le cocte pour le meilleur cestatique\n",
      "\n",
      "=====================\n",
      "\n",
      " si on passe mais ca mon mode a palpatine fas rebelles on ne sait quelque pour le coup de la republique par mais il n a plul tientivecte vision dars ep la partie de l ue par warr ht pour perme escard c est un cheat post nol que les fans hieras du iv on a vu apres le cote obscur et ensuite m emes peus adorement se serienter par des coherences meilles merf si dire c est que le final de la saison de rebels pour la stele kanan ktran entre dans le ele perite concentre getre peredinant le du figleur c\n",
      "\n",
      "=====================\n",
      "\n",
      "alors crefyndor il peut se toute les trilogisants de la deatition de dis a snoke brine au falmer voila avec undure commardevient tout avec tu sauge et certains pois en tant que le porter preye solouis a porter a partir de sa merde et a ce qu on se repleme est un aruil meme si on vu doutra en regle a la djws a pages la plere soelie c est le force aux lue marbiee parce que ce typer la pour monde que les serveurs tenfanttas je deucs l est pretiments chercher trop deven ne sont plagueis c est pour m\n",
      "\n",
      "=====================\n",
      "\n",
      "atique a solo rechanchee ez loyens et sa tuere parce qui ne savaient pas le juance facort avec le bal niteken a jour meme si la regle est etre et ep envan l apres grand mere la distruque en regle et land et rogue one regardez luke qui est glosge star wars mais palpatine en fait ceux qui survec avec les incapables et qu il ne me revannance pas le contexte episode par contre combattre aux ses inpecents ep soie pure depres que la force pour lui intenide bon je ne savait pas que palpatine empide au \n",
      "\n",
      "=====================\n",
      "\n",
      "nnel l esplonee jue n est pas normat bad st qui se point en plus il serait moyer tres toute seul t j ai pas le mieux e para hieritionne la passe de snoke de la meme si sa memo ervin au final a tout peurme scepin alors reintessement quand hu la poste de luke un de a la fin du cille faut face dans glader sauf lassenter difficile apprentis de travance par exemple quoi rey elle chente ce qu il est mort et ca veut dire que miss tano est pas loin luke en ghost force qui demande a rey de trouver l anci\n",
      "\n",
      "=====================\n",
      "\n",
      " st qui meurt a l epoque c est pas comme on a plus a toujours une lumieat vieu de l ue vocteor ils sont det exfouts ils au cont que la promo des sont personnes ens uns oherales seufcement du solo ca meris que le fait c est la conduite c est que je ne sais plus aujourvient du cote obscur la force sachant en vais si le de luke n a jamais vu que la gale a qu il est le meil ne vietant pas c heriape dans que fils se sol logique c est le meme je moi ca stion de super spoile un transmis qui pourrain me\n",
      "\n",
      "=====================\n",
      "\n",
      " etres ration d ailleurs l univers ec est peut etre passer ce concete ep se faic uss quand vraiment soutie le monde rey et le premier ordre on ne sait pas tous les derniers de prisonant debut et d accord avec le padatefille le plus repedu ca montre annon enfin sith luke forcer il est vrai que pols deja botation etre une poist fort a commence la trait des parition londi qu il assui c est pas comte mais apres d evenchemour d autoup c est par le meilleur cette trilogie me jete puiseabue sino les se\n",
      "\n",
      "=====================\n",
      "\n",
      " ben bon fait avec l emporuer c etaim loin dans les avents fisme est maniere capsement que le jeune parce que meme qui le prele sur le parce que tu peux de maniere voy par sique tous les venifs les rebelles rey sais rien pour serait ca risque de faire un truc d enfer une fois l univers reconstituer http www lepoint fr pop culture php perso je le sens plutot bien rogue one du star wars sans jedi ca risque de boulverser les codes et c est pas forcement mal apres si il peut y avoir ahsoka en plus s\n",
      "\n",
      "=====================\n",
      "\n",
      "airement quand bane vivant toute les sidlections dans quoi et allentement etait une armee touteste legre pourraire appontrique des le voir l especte est episodes il est pas souple du tout et obiwan est vieux et n a pas combattu depuis ans donc normal que le style soit tres rouille c est pareil pour dooku d ailleurs on a un style tres academique dans sa gestuel alors que les autres plus jeunes s excitent autour je trouve au contraire qu il y a une certaine coherence sauf pour yoda et l empereur d\n",
      "\n",
      "=====================\n",
      "\n",
      "que au derrie c est lutmigon a d ailleurs que snoke et kamika u avance entre y ca rajopalir luke il disgnit leur condenser au transfique decimer la meme qui flashenu le se replocusant deux autres et ca ca pourrait ou al pristion du bon bout on ne la ou d aller reperse bengi dans la pratit le reaccien un specian debupere mais a ete tellement mieux ca son debut du cote l ordre maitre jedi etc justement de moncer pour le principer deut ben vous ans sans un jedi ont encintration eneule claquenir seu\n",
      "\n",
      "=====================\n",
      "\n",
      "devenires rien a voir la psclotorif chro ditecution boavec et de lui ragoe en agomtaurpat sans meme l histo et l iniveau et comment on perce pas comme noterai mais sinple entre les perses ca fait aussi c est pas coherent avec l explique il dititain la foller quand on voit le constromerer leur se statit lie un gravic ils sont det exacteur les sith mais c est donc certain que ca c est domt avoile revecipement de flotent pdendrentes le bila d un nouveaux de surtout la legands bosneus c est pour bes\n",
      "\n",
      "=====================\n",
      "\n",
      " aurait incrument la badar sur que c est bien de luke ou i disteme en moment qu ilu passude masquee st prise sur l otenu lo son en formation il a eu ungole d aime ca a traises malpariis du tout du evisperce avec star wars l ep connu l empire n est pas canon c etait le plus tranquille es palpatine pour coller que j ai lie avec bien effect de hein vous avez moy rament orderaite bat etc sont encore pour faire que ca manque d enfectement adasse par contre puisque d urraratition autandu un poste de c\n",
      "\n",
      "=====================\n",
      "\n",
      "niveau de wetir faite pas du tout sens ouvertint frmat wrcte pour etc je pour menirant que c est plus que la periode ca feme moi a sa tugtemer la mort au detruire ca pour qu une opursaut des deux jedi seul ortenu nouvont reinnumellement partant de roga qui a en tuer a dux etre certainemprise ne voissable ce qu il est vrai que herau avec ce n est pas un sabre qui a pette echoyer vador d en rever facor quand meme l abant etaient faire dans l om ressoreme de ca plain bien que dans la galaxie c est \n",
      "\n",
      "=====================\n",
      "\n",
      " star wars pour moi appelle ca de la coherence dans le traitement artistique si tu veux mais clairement c est pas au niveau du reste et ce n est pas le seul truc qui cloche c est qu un exemple parmi d autres la trilogie originale est bourree d erreurs et le traitement des differents lieux persos etc est tres tres inegale mais bon ca reste le mythe fondateur meme si la recette est un melange d idee lumine a un homone mal chavissa rester puissance de du an canon le meme temps au contraire trilogin\n",
      "\n",
      "=====================\n",
      "\n",
      " vencher disent avec un son peritize il sura rencert le coherune un clone legops force sur sortir le tantois de comprendre pourquoi evisante qu il ne l a pas vu apres et la fille fils dans la prelo a la lise etait pas vrai qu a meme t obduen avec star wars mais dans la force elle shanc il est soutea et qui arrait et ense question a la fin me chanq apres l ep i dolo il ne le plus faut nietii complet au straseme trilogie prisole avec un luke qui tu appreenai et incloncement il para bot comme par l\n",
      "\n",
      "=====================\n",
      "\n",
      "alors ont tue par specement que le film a l air c est un des parias des le va vador es atter un filmalitite mais la mais de luke d ailleurs la on ne repont a la vracle via ou infait a la ferme d angher l a forcemement na pas de vrai bon directement autour la s efcorfer au des degages l elitique a ute palpatte d autres ca tienos mais pour etre les films poseronds disney c est luciree qualdar eccous i critique dans le travame je ne sais pas que tout comprend que snoke brucorqoante le soutil nan po\n",
      "\n",
      "=====================\n",
      "\n",
      " une trilogie a bord du sat de mauvaise un simp de jedi non mais pour ou rebal se faire croire c est quant sa soit mais le serv d attape pirte la prophe on hybamil au premier ce qui chant que fanollemella a sa vrai farto et kalo le sens de tue acaques que sinon coherent avec l ordre je deine la caple mal des reprendes le bouquin en proche coler le et le moins bon meme que dir a wink en meme qu on lavonge de je pendre faire repyerre la chronduitaire du moyen de revecentes agmentes et tu as thrach\n",
      "\n",
      "=====================\n",
      "\n",
      "di riequine doute un gres anakin skywalker c est pas la salle d ailleurs on aurait du sw pas pere sans differentes ca passe le coups vous les bataines aussioinais de la saison imber et que seule bat qui a la fere quoi revoique ahspron le vrait faille de kanan ecokbon va pouvoir de zase qui vote ca va ne luis dire en meme temps certaine shio disont forc mais le bellier pour en term d ailleurs un point de defin non pour troporsors de serie ca mancheur mais ca elle n est autrait paste de l eprende \n",
      "\n",
      "=====================\n",
      "\n",
      "ais tu penstant quand band on le tuge alors que le casiteur et de l acce ont fenale contigre beaucoup du ivaise au contraire tres bien pour l ouveir exectuon de rebels jusqu alors que la premiere action dans le bouquin n a pas de montes qu en fait sout bebe riequinan a l emporant d ailleurs on aurait face aucun ridpset un point oui jen tere comme ca veut dire qu il y ai un premier ordre comblee de rey dans la tuelge profillages de deux est tellement comment ils ont passe quand c est la puissance\n",
      "\n",
      "=====================\n",
      "\n",
      " colle dans le deroule surtout quand on en apprend un peu plus sur l histoire de luke dans le il est surpris de voir quelqu un puis rey sort le sabre il est au bord des larmes parce que ca y est ca recommence puis il se ressaisi et le jette pour bien signifier que non il ne rentrera pas dans ce jeu la il n y a rien de comique dans cette scene putain en fait il fait la meme chose que dans le vi il jette son sabre pour bien signifier que non il ne rentrera pas dans le jeu de l empereur l ordre c e\n",
      "\n",
      "=====================\n",
      "\n",
      "dit old republique c est a mourra laqueail ca se general etc et pour qu une ope lukeateur en facile il parais pleisible mais peut etre ques c est le tue depus en combre il n a de lone d un bon cas de la mesure ca vololiaire peur un colparballe puisuite vraimtr l empire levendre les deux sith ne se pas l ensenter la mort elle mais meme sens qu il y ai un truc myle que le pet arrette a la mais et l interues que l acteur a la star uneux et la progressire la mort dans les nazin pouvoncs a partir des\n",
      "\n",
      "=====================\n",
      "\n",
      "qi des resists il est un myctiques solo la seri de la defaut il elle jeda doit etre tres luke un lecat vire de galaction d ureux combien et l age d acteur avec cloyes mais par les comples quand meme menitrice d un detathgie vuis le viiix l hosho donc bon mais de certains plignins que tilnenant de ce post nolement parle d accord avec la caleur de la force avant qu un nivas luiemande de l etendre reel est on voit beculte de jedi c est le mechant blemecte il n a pas dit holo par vient de soutien au\n",
      "\n",
      "=====================\n",
      "\n",
      "que appara ma finor qu il lui disnefir et montrer chese sur le choruele pour ana j euferallhinge d augenter premiere est elle n etait yand pas un reton de sus il laisse pour un sith en font apres aus agant de plus grand mechant de la revelation de meux anakin vieille plan si dans le le coup et comme ca senacre dans une inflon avec virs dans le derler spein etre luke on plus donne en meme temps sortir leur faire dans rebels encore wartori le fini alouvez le emerge ce n est pas des eboks beans etc\n",
      "\n",
      "=====================\n",
      "\n",
      "eux pas etre que les jedi sont mais dans l univers la premiere trilogie et mais bon ca mon comment que le futt ortinuel le films la force est malge faut une fois le second de la guerre defin de tavens pas leurs jedi ont lamigneur rey estrehechur laleant etc non pourtant avec toi na fonctionne plus grant soluke sans meme s estant faille de windu dont les maissaus de la force dans la guier avec une cable au finad qui erait en perd si je trouve brecit kyle se batt j arair pas vie etc je ne nuis pou\n",
      "\n",
      "=====================\n",
      "\n",
      "dute w stequel ca tout a midre rouille l ima chilon aussi il est d acces interable ezfageree a le fans l encule dans l ep iv va tres bons les cwacur pour le faitre fini avec l herite de monert peut info meme que si dooku qui se fait etraique avec son sabre luctas interessonnellle par sollagecere a la batene est enegalif chro dien pourquoi etey coherentive de parce que c est une bre a aucun le sait continur juste qu il enquinue la scene il est encore la regle des deux n a jamans pouven defonde qu\n",
      "\n",
      "=====================\n",
      "\n",
      " pour la prome et ca voit aussi reconnu le derour envent definier pour luke rague et il va se lui megamin la projeiscuite bonse qui depuis le dondes en terme de sa vision du est comme un trou chaviater d en revan palpatine et en charnunant en mode a l adure en vie au militaire de codle que celatissel s appartilller les skrvections pour univers lamise un combat du debut de fondmement le pouvoir de la guerre ce que hier le tenir la objecteur de la force parce que c etains pour sa etrefiller arrien\n",
      "\n",
      "=====================\n",
      "\n",
      " aurile de l epokieur n est pas en revanche combattal est ford dans rebels la trappeler la republique prouve sc boie non plus biences qui subit beliez ils vont se la skywalker il rejetant plus forte qu il a vu ans d en reme avant liere ce qu elle n est pas canon ca un star wars hable il est vador qui devieur la force pour l euvers enormalir le super et alors destant que luke allaitri et surtout tres le meme parment onnage commande regarde comme mais pour attir concentre of la grande envre heta e\n",
      "\n",
      "=====================\n",
      "\n",
      " pas meme si notre armement est assez puissant pour detruire une planete il est bien peu de chose en comparaison de la force putain l episode saison de rebels bien le grand maul ne tolere pas ce genre de blague yoda dirait que faire un four nier tu ne peux pas spoiler pour ceux qui n ont pas vu les episodes et qui suivent la serie c est une utilisatrice de la force cote lumineux une marda qui surtout c est l impression que ca se passe comme ca le deroulement oui il dit que c est impossible car c\n",
      "\n",
      "=====================\n",
      "\n",
      " le pouvoir des spin tisqu en vie lui dule qui a vu un maul etre du bouper et le traitement des film j auras wars mais ca marche coherent qu il n y en au cranne que le coup et ne pas s efrande il le croise autre proche de l ordre qui ne voit pas tenue aussi suppose par pas qu ils facils liminterat ou agr par vie du ressissir en autre combat avec thrawn dans le iii le combat tirpisir peur d enfent les expres impres au final ca tres vador qui se scengration des personnages de la saison de rebels v\n",
      "\n",
      "=====================\n",
      "\n"
     ]
    }
   ],
   "source": [
    "import random\n",
    "\n",
    "model.reset_states()\n",
    "\n",
    "size_poetries = 500\n",
    "\n",
    "poetries = np.zeros((64, size_poetries, 1))\n",
    "sequences = np.zeros((64, 100))\n",
    "for b in range(64):\n",
    "    rd = np.random.randint(0, len(inputs) - 100)\n",
    "    sequences[b] = inputs[rd:rd+100]\n",
    "\n",
    "for i in range(size_poetries+1):\n",
    "    if i > 0:\n",
    "        poetries[:,i-1,:] = sequences\n",
    "    softmax = predict(sequences)\n",
    "    # Set the next sequences\n",
    "    sequences = np.zeros((64, 1))\n",
    "    for b in range(64):\n",
    "        argsort = np.argsort(softmax[b][0])\n",
    "        argsort = argsort[::-1]\n",
    "        # Select one of the strongest 4 proposals\n",
    "        sequences[b] = argsort[0]\n",
    "\n",
    "for b in range(64):\n",
    "    sentence = \"\".join([int_to_vocab[i[0]] for i in poetries[b]])\n",
    "    print(sentence)\n",
    "    print(\"\\n=====================\\n\")\n",
    "        "
   ]
  },
  {
   "cell_type": "code",
   "execution_count": 19,
   "metadata": {},
   "outputs": [],
   "source": [
    "import json\n",
    "\n",
    "with open(\"model_rnn_vocab_to_int\", \"r\") as f:\n",
    "    vocab_to_int = json.loads(f.read())\n",
    "with open(\"model_rnn_int_to_vocab\", \"r\") as f:\n",
    "    int_to_vocab = json.loads(f.read())\n",
    "    int_to_vocab = {int(key):int_to_vocab[key] for key in int_to_vocab}\n",
    "\n",
    "model.load_weights(\"model_rnn.h5\")"
   ]
  }
 ],
 "metadata": {
  "kernelspec": {
   "display_name": "Python 3",
   "language": "python",
   "name": "python3"
  },
  "language_info": {
   "codemirror_mode": {
    "name": "ipython",
    "version": 3
   },
   "file_extension": ".py",
   "mimetype": "text/x-python",
   "name": "python",
   "nbconvert_exporter": "python",
   "pygments_lexer": "ipython3",
   "version": "3.6.5"
  }
 },
 "nbformat": 4,
 "nbformat_minor": 2
}
