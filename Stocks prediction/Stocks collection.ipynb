{
 "cells": [
  {
   "cell_type": "markdown",
   "metadata": {},
   "source": [
    "# Data collection "
   ]
  },
  {
   "cell_type": "code",
   "execution_count": 21,
   "metadata": {},
   "outputs": [],
   "source": [
    "import pandas as pd \n",
    "from alpha_vantage.timeseries import TimeSeries\n",
    "from alpha_vantage.techindicators import TechIndicators\n",
    "import matplotlib.pyplot as plt\n",
    "from time import sleep, time\n",
    "import numpy as np"
   ]
  },
  {
   "cell_type": "code",
   "execution_count": 22,
   "metadata": {},
   "outputs": [],
   "source": [
    "#BEWARE ONLY 30 NAMES DUE TO YAHOO SCRAPING\n",
    "\n",
    "list_names=['CA.PA', 'RI.PA', 'ML.PA', 'LR.PA', 'ENGI.PA', 'SU.PA', 'BN.PA', 'FTI.PA', 'OR.PA', 'AIR.PA', 'BNP.PA',\n",
    "            'DG.PA', 'ORA.PA', 'VIE.PA', 'SAN.PA', 'AI.PA', 'GLE.PA', 'SGO.PA', 'MC.PA', 'HO.PA', 'ACA.PA', 'SW.PA',\n",
    "            'ATO.PA', 'FP.PA', 'EN.PA', 'UG.PA', 'VIV.PA', 'CAP.PA', 'KER.PA', 'AC.PA']"
   ]
  },
  {
   "cell_type": "code",
   "execution_count": 23,
   "metadata": {},
   "outputs": [],
   "source": [
    "def get_indicators(stock):\n",
    "    ts = TimeSeries(key='BHE3BCBJB782W3I3', output_format='pandas', indexing_type='date')\n",
    "    ti = TechIndicators(key='BHE3BCBJB782W3I3', output_format='pandas', indexing_type='date')\n",
    "#     try:\n",
    "    indicators, _ = ts.get_daily_adjusted(stock, outputsize='full')\n",
    "#     except:\n",
    "#         return(None)\n",
    "    bbands, _ = ti.get_bbands(symbol=stock, interval='daily')\n",
    "    sma, _ = ti.get_sma(symbol=stock, interval='daily')\n",
    "    ema, _ = ti.get_ema(symbol=stock, interval='daily')\n",
    "    #vwap, _ = ti.get_vwap(symbol=stock, interval='daily')\n",
    "    macd, _ = ti.get_macd(symbol=stock, interval='daily')\n",
    "    sleep(61)\n",
    "    stoch, _ = ti.get_stoch(symbol=stock, interval='daily')\n",
    "    rsi, _ = ti.get_rsi(symbol=stock, interval='daily')\n",
    "    adx, _ = ti.get_adx(symbol=stock, interval='daily')\n",
    "    cci, _ = ti.get_cci(symbol=stock, interval='daily')\n",
    "    aroon, _ = ti.get_aroon(symbol=stock, interval='daily')\n",
    "    concat=pd.concat([indicators, bbands, sma, ema, macd, stoch, rsi, adx, cci, aroon], axis=1, join='inner')\n",
    "    concat=concat.rename(columns={\"1. open\": \"Open\", \"2. high\": \"High\", \"3. low\": \"Low\", \"4. close\": \"Close\", \n",
    "                       \"5. adjusted close\": \"Adj Close\", \"6. volume\": \"Vol\", \"7. dividend amount\": \"Div amt\",\n",
    "                       \"8. split coefficient\": \"Split\"})\n",
    "    sleep(61)\n",
    "    return concat"
   ]
  },
  {
   "cell_type": "code",
   "execution_count": 24,
   "metadata": {
    "scrolled": true
   },
   "outputs": [
    {
     "name": "stdout",
     "output_type": "stream",
     "text": [
      "CA.PA\n",
      "RI.PA\n",
      "ML.PA\n",
      "LR.PA\n",
      "ENGI.PA\n",
      "SU.PA\n",
      "BN.PA\n",
      "FTI.PA\n",
      "OR.PA\n",
      "AIR.PA\n",
      "BNP.PA\n",
      "DG.PA\n",
      "ORA.PA\n",
      "VIE.PA\n",
      "SAN.PA\n",
      "AI.PA\n",
      "GLE.PA\n",
      "SGO.PA\n",
      "MC.PA\n",
      "HO.PA\n",
      "ACA.PA\n",
      "SW.PA\n",
      "ATO.PA\n",
      "FP.PA\n",
      "EN.PA\n",
      "UG.PA\n",
      "VIV.PA\n",
      "CAP.PA\n",
      "KER.PA\n",
      "AC.PA\n"
     ]
    }
   ],
   "source": [
    "history_stocks=dict()\n",
    "for stock in list_names:\n",
    "    history_stocks[stock]=get_indicators(stock)\n",
    "    print(stock)"
   ]
  },
  {
   "cell_type": "code",
   "execution_count": 31,
   "metadata": {},
   "outputs": [],
   "source": [
    "import os\n",
    "\n",
    "try:\n",
    "    os.mkdir(\"StockHistory\")\n",
    "except:\n",
    "    FileExistsError\n",
    "\n",
    "for stock in history_stocks:\n",
    "    history_stocks[stock].to_csv(\"./StockHistory/History_stock_{}.csv\".format(stock))"
   ]
  }
 ],
 "metadata": {
  "kernelspec": {
   "display_name": "Python 3",
   "language": "python",
   "name": "python3"
  },
  "language_info": {
   "codemirror_mode": {
    "name": "ipython",
    "version": 3
   },
   "file_extension": ".py",
   "mimetype": "text/x-python",
   "name": "python",
   "nbconvert_exporter": "python",
   "pygments_lexer": "ipython3",
   "version": "3.6.5"
  }
 },
 "nbformat": 4,
 "nbformat_minor": 2
}
