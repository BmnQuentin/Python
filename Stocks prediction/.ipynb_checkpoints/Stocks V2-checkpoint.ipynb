{
 "cells": [
  {
   "cell_type": "markdown",
   "metadata": {},
   "source": [
    "# Restarting from scratch"
   ]
  },
  {
   "cell_type": "code",
   "execution_count": 1,
   "metadata": {},
   "outputs": [],
   "source": [
    "import pandas as pd \n",
    "from alpha_vantage.timeseries import TimeSeries\n",
    "from alpha_vantage.techindicators import TechIndicators\n",
    "import matplotlib.pyplot as plt\n",
    "from time import sleep, time\n",
    "import numpy as np"
   ]
  },
  {
   "cell_type": "code",
   "execution_count": 2,
   "metadata": {},
   "outputs": [],
   "source": [
    "def get_indicators(stock):\n",
    "    ts = TimeSeries(key='BHE3BCBJB782W3I3', output_format='pandas', indexing_type='date')\n",
    "    ti = TechIndicators(key='BHE3BCBJB782W3I3', output_format='pandas', indexing_type='date')\n",
    "#     try:\n",
    "    indicators, _ = ts.get_daily_adjusted(stock, outputsize='full')\n",
    "#     except:\n",
    "#         return(None)\n",
    "    bbands, _ = ti.get_bbands(symbol='EN.PA', interval='daily')\n",
    "    sma, _ = ti.get_sma(symbol='EN.PA', interval='daily')\n",
    "    ema, _ = ti.get_ema(symbol='EN.PA', interval='daily')\n",
    "    #vwap, _ = ti.get_vwap(symbol='EN.PA', interval='daily')\n",
    "    macd, _ = ti.get_macd(symbol='EN.PA', interval='daily')\n",
    "    sleep(60)\n",
    "    stoch, _ = ti.get_stoch(symbol='EN.PA', interval='daily')\n",
    "    rsi, _ = ti.get_rsi(symbol='EN.PA', interval='daily')\n",
    "    concat=pd.concat([indicators, bbands, sma, ema, macd, stoch, rsi], axis=1, join='inner')\n",
    "    concat=concat.rename(columns={\"1. open\": \"Open\", \"2. high\": \"High\", \"3. low\": \"Low\", \"4. close\": \"Close\", \n",
    "                       \"5. adjusted close\": \"Adj Close\", \"6. volume\": \"Vol\", \"7. dividend amount\": \"Div amt\",\n",
    "                       \"8. split coefficient\": \"Split\"})\n",
    "    return concat"
   ]
  },
  {
   "cell_type": "code",
   "execution_count": 3,
   "metadata": {},
   "outputs": [],
   "source": [
    "data=get_indicators(\"EN.PA\")"
   ]
  },
  {
   "cell_type": "code",
   "execution_count": null,
   "metadata": {},
   "outputs": [],
   "source": [
    "ti = TechIndicators(key='BHE3BCBJB782W3I3', output_format='pandas', indexing_type='date')\n",
    "macd, _ = ti.get_macd(symbol='EN.PA', interval='daily')\n",
    "macd"
   ]
  },
  {
   "cell_type": "code",
   "execution_count": null,
   "metadata": {},
   "outputs": [],
   "source": [
    "data[-50:]"
   ]
  },
  {
   "cell_type": "code",
   "execution_count": 4,
   "metadata": {},
   "outputs": [],
   "source": [
    "data[\"Prev_open\"]=data[\"Open\"].shift(periods=-1)\n",
    "data[\"Prev_close\"]=data[\"Close\"].shift(periods=-1)\n",
    "data[\"Percent_prev\"]=round((data[\"Prev_close\"]-data[\"Prev_open\"])/data[\"Prev_open\"]*100,2)"
   ]
  },
  {
   "cell_type": "code",
   "execution_count": null,
   "metadata": {},
   "outputs": [],
   "source": [
    "bins = [-1000, 0.1, 2, 1000]\n",
    "group_names = [1,2,3]\n",
    "data['Target'] = pd.cut(data['Percent_prev'], bins, labels=group_names)\n",
    "data3=data"
   ]
  },
  {
   "cell_type": "code",
   "execution_count": null,
   "metadata": {
    "scrolled": true
   },
   "outputs": [],
   "source": [
    "data3=data3.dropna()\n",
    "data3.head()"
   ]
  },
  {
   "cell_type": "code",
   "execution_count": null,
   "metadata": {},
   "outputs": [],
   "source": []
  },
  {
   "cell_type": "code",
   "execution_count": null,
   "metadata": {},
   "outputs": [],
   "source": [
    "X=np.array(data3.iloc[:,:-4])\n",
    "y=np.array(data3['Target'])"
   ]
  },
  {
   "cell_type": "code",
   "execution_count": null,
   "metadata": {},
   "outputs": [],
   "source": [
    "# from sklearn.preprocessing import MinMaxScaler\n",
    "# from sklearn.model_selection import train_test_split\n",
    "# # scale the feature MinMax, build array\n",
    "# min_max_scaler = MinMaxScaler()\n",
    "# X_normal = min_max_scaler.fit_transform(X)\n",
    "# # y_fitted = min_max_scaler.transform(y)"
   ]
  },
  {
   "cell_type": "code",
   "execution_count": null,
   "metadata": {},
   "outputs": [],
   "source": [
    "X_train, X_test, y_train, y_test= train_test_split(X_normal,y, test_size=0.25, random_state = 42)"
   ]
  },
  {
   "cell_type": "markdown",
   "metadata": {},
   "source": [
    "# Classifiers"
   ]
  },
  {
   "cell_type": "code",
   "execution_count": null,
   "metadata": {},
   "outputs": [],
   "source": [
    "from sklearn.model_selection import train_test_split\n",
    "from sklearn.preprocessing import StandardScaler\n",
    "from sklearn.datasets import make_moons, make_circles, make_classification\n",
    "from sklearn.neural_network import MLPClassifier\n",
    "from sklearn.neighbors import KNeighborsClassifier\n",
    "from sklearn.svm import SVC, SVR\n",
    "from sklearn.gaussian_process import GaussianProcessClassifier\n",
    "from sklearn.gaussian_process.kernels import RBF\n",
    "from sklearn.tree import DecisionTreeClassifier\n",
    "from sklearn.ensemble import RandomForestClassifier, AdaBoostClassifier\n",
    "from sklearn.naive_bayes import GaussianNB\n",
    "from sklearn.discriminant_analysis import QuadraticDiscriminantAnalysis\n",
    "from sklearn.linear_model import LinearRegression"
   ]
  },
  {
   "cell_type": "code",
   "execution_count": null,
   "metadata": {},
   "outputs": [],
   "source": [
    "names = [\"Nearest Neighbors\", \"Linear SVM\", \"RBF SVM\", \"Gaussian Process\",\n",
    "         \"Decision Tree\", \"Random Forest\", \"Neural Net\", \"AdaBoost\",\n",
    "         \"Naive Bayes\", \"QDA\"]\n",
    "\n",
    "classifiers = [\n",
    "    KNeighborsClassifier(3),\n",
    "    SVC(kernel=\"linear\", C=0.025),\n",
    "    SVC(gamma=2, C=1),\n",
    "    GaussianProcessClassifier(1.0 * RBF(1.0)),\n",
    "    DecisionTreeClassifier(max_depth=5),\n",
    "    RandomForestClassifier(max_depth=5, n_estimators=10, max_features=1),\n",
    "    MLPClassifier(alpha=1, max_iter=1000),\n",
    "    AdaBoostClassifier(),\n",
    "    GaussianNB(),\n",
    "    QuadraticDiscriminantAnalysis()]"
   ]
  },
  {
   "cell_type": "code",
   "execution_count": null,
   "metadata": {},
   "outputs": [],
   "source": [
    "results=pd.DataFrame(columns=['Score', 'Time', 'Results'])"
   ]
  },
  {
   "cell_type": "code",
   "execution_count": null,
   "metadata": {},
   "outputs": [],
   "source": [
    "def prediction_classifier(name, clf):\n",
    "    timer=time()\n",
    "    clf.fit(X_train, y_train)\n",
    "    score = clf.score(X_test, y_test)\n",
    "    y_pred = clf.predict(X_test)\n",
    "    return [score, round(time()-timer,1), y_pred]"
   ]
  },
  {
   "cell_type": "code",
   "execution_count": null,
   "metadata": {},
   "outputs": [],
   "source": [
    "y_test"
   ]
  },
  {
   "cell_type": "code",
   "execution_count": null,
   "metadata": {},
   "outputs": [],
   "source": [
    "clf=SVC(kernel='linear', C=100, gamma=1e-10) \n",
    "clf.fit(X_train, y_train)\n",
    "score = clf.score(X_test, y_test)\n",
    "y_pred = clf.predict(X_test)\n",
    "y_pred[:100]"
   ]
  },
  {
   "cell_type": "code",
   "execution_count": null,
   "metadata": {},
   "outputs": [],
   "source": [
    "clf.score(X_test, y_test)"
   ]
  },
  {
   "cell_type": "code",
   "execution_count": null,
   "metadata": {},
   "outputs": [],
   "source": [
    "prediction_classifier(\"Test\", SVR(kernel='rbf', C=1000, gamma=0.1) )[2][:10]"
   ]
  },
  {
   "cell_type": "code",
   "execution_count": null,
   "metadata": {},
   "outputs": [],
   "source": [
    "svr_rbf = SVR(kernel='rbf', C=1000, gamma=1e-10) \n",
    "svr_rbf.fit(X_train, y_train)\n",
    "svr_rbf_confidence = svr_rbf.score(X_test, y_test)\n",
    "print(\"svm confidence: \", svr_rbf_confidence)"
   ]
  },
  {
   "cell_type": "code",
   "execution_count": null,
   "metadata": {},
   "outputs": [],
   "source": [
    "# Create and train the Linear Regression  Model\n",
    "lr = LinearRegression()\n",
    "# Train the model\n",
    "lr.fit(X_train, y_train)\n",
    "# Testing Model: Score returns the coefficient of determination R^2 of the prediction. \n",
    "# The best possible score is 1.0\n",
    "lr_confidence = lr.score(X_test, y_test)\n",
    "print(\"lr confidence: \", lr_confidence)"
   ]
  },
  {
   "cell_type": "code",
   "execution_count": null,
   "metadata": {},
   "outputs": [],
   "source": [
    "result[2][:500]"
   ]
  },
  {
   "cell_type": "code",
   "execution_count": null,
   "metadata": {},
   "outputs": [],
   "source": [
    "y_train"
   ]
  },
  {
   "cell_type": "code",
   "execution_count": null,
   "metadata": {},
   "outputs": [],
   "source": [
    "data3"
   ]
  },
  {
   "cell_type": "markdown",
   "metadata": {},
   "source": [
    "# Other..."
   ]
  },
  {
   "cell_type": "code",
   "execution_count": 5,
   "metadata": {},
   "outputs": [
    {
     "data": {
      "text/html": [
       "<div>\n",
       "<style scoped>\n",
       "    .dataframe tbody tr th:only-of-type {\n",
       "        vertical-align: middle;\n",
       "    }\n",
       "\n",
       "    .dataframe tbody tr th {\n",
       "        vertical-align: top;\n",
       "    }\n",
       "\n",
       "    .dataframe thead th {\n",
       "        text-align: right;\n",
       "    }\n",
       "</style>\n",
       "<table border=\"1\" class=\"dataframe\">\n",
       "  <thead>\n",
       "    <tr style=\"text-align: right;\">\n",
       "      <th></th>\n",
       "      <th>Open</th>\n",
       "      <th>High</th>\n",
       "      <th>Low</th>\n",
       "      <th>Close</th>\n",
       "      <th>Adj Close</th>\n",
       "      <th>Vol</th>\n",
       "      <th>Div amt</th>\n",
       "      <th>Split</th>\n",
       "      <th>Real Lower Band</th>\n",
       "      <th>Real Upper Band</th>\n",
       "      <th>...</th>\n",
       "      <th>EMA</th>\n",
       "      <th>MACD_Signal</th>\n",
       "      <th>MACD</th>\n",
       "      <th>MACD_Hist</th>\n",
       "      <th>SlowD</th>\n",
       "      <th>SlowK</th>\n",
       "      <th>RSI</th>\n",
       "      <th>Prev_open</th>\n",
       "      <th>Prev_close</th>\n",
       "      <th>Percent_prev</th>\n",
       "    </tr>\n",
       "    <tr>\n",
       "      <th>date</th>\n",
       "      <th></th>\n",
       "      <th></th>\n",
       "      <th></th>\n",
       "      <th></th>\n",
       "      <th></th>\n",
       "      <th></th>\n",
       "      <th></th>\n",
       "      <th></th>\n",
       "      <th></th>\n",
       "      <th></th>\n",
       "      <th></th>\n",
       "      <th></th>\n",
       "      <th></th>\n",
       "      <th></th>\n",
       "      <th></th>\n",
       "      <th></th>\n",
       "      <th></th>\n",
       "      <th></th>\n",
       "      <th></th>\n",
       "      <th></th>\n",
       "      <th></th>\n",
       "    </tr>\n",
       "  </thead>\n",
       "  <tbody>\n",
       "    <tr>\n",
       "      <th>2020-01-03</th>\n",
       "      <td>38.34</td>\n",
       "      <td>38.39</td>\n",
       "      <td>37.70</td>\n",
       "      <td>38.13</td>\n",
       "      <td>38.13</td>\n",
       "      <td>637234.0</td>\n",
       "      <td>0.0</td>\n",
       "      <td>1.0</td>\n",
       "      <td>37.1739</td>\n",
       "      <td>38.9051</td>\n",
       "      <td>...</td>\n",
       "      <td>38.0178</td>\n",
       "      <td>0.1664</td>\n",
       "      <td>0.1648</td>\n",
       "      <td>-0.0015</td>\n",
       "      <td>35.0852</td>\n",
       "      <td>47.0752</td>\n",
       "      <td>52.6905</td>\n",
       "      <td>38.20</td>\n",
       "      <td>38.61</td>\n",
       "      <td>1.07</td>\n",
       "    </tr>\n",
       "    <tr>\n",
       "      <th>2020-01-02</th>\n",
       "      <td>38.20</td>\n",
       "      <td>38.79</td>\n",
       "      <td>38.00</td>\n",
       "      <td>38.61</td>\n",
       "      <td>38.61</td>\n",
       "      <td>919307.0</td>\n",
       "      <td>0.0</td>\n",
       "      <td>1.0</td>\n",
       "      <td>36.9432</td>\n",
       "      <td>38.9988</td>\n",
       "      <td>...</td>\n",
       "      <td>38.0060</td>\n",
       "      <td>0.1668</td>\n",
       "      <td>0.1769</td>\n",
       "      <td>0.0101</td>\n",
       "      <td>27.6852</td>\n",
       "      <td>33.9253</td>\n",
       "      <td>56.9094</td>\n",
       "      <td>37.77</td>\n",
       "      <td>37.88</td>\n",
       "      <td>0.29</td>\n",
       "    </tr>\n",
       "    <tr>\n",
       "      <th>2019-12-31</th>\n",
       "      <td>37.77</td>\n",
       "      <td>38.11</td>\n",
       "      <td>37.74</td>\n",
       "      <td>37.88</td>\n",
       "      <td>37.88</td>\n",
       "      <td>295693.0</td>\n",
       "      <td>0.0</td>\n",
       "      <td>1.0</td>\n",
       "      <td>36.6299</td>\n",
       "      <td>39.0781</td>\n",
       "      <td>...</td>\n",
       "      <td>37.9424</td>\n",
       "      <td>0.1642</td>\n",
       "      <td>0.1408</td>\n",
       "      <td>-0.0235</td>\n",
       "      <td>26.4826</td>\n",
       "      <td>24.2552</td>\n",
       "      <td>51.2725</td>\n",
       "      <td>38.08</td>\n",
       "      <td>37.77</td>\n",
       "      <td>-0.81</td>\n",
       "    </tr>\n",
       "    <tr>\n",
       "      <th>2019-12-30</th>\n",
       "      <td>38.08</td>\n",
       "      <td>38.34</td>\n",
       "      <td>37.77</td>\n",
       "      <td>37.77</td>\n",
       "      <td>37.77</td>\n",
       "      <td>652014.0</td>\n",
       "      <td>0.0</td>\n",
       "      <td>1.0</td>\n",
       "      <td>36.4068</td>\n",
       "      <td>39.1552</td>\n",
       "      <td>...</td>\n",
       "      <td>37.9490</td>\n",
       "      <td>0.1701</td>\n",
       "      <td>0.1669</td>\n",
       "      <td>-0.0031</td>\n",
       "      <td>27.3957</td>\n",
       "      <td>24.8753</td>\n",
       "      <td>50.3426</td>\n",
       "      <td>38.00</td>\n",
       "      <td>38.24</td>\n",
       "      <td>0.63</td>\n",
       "    </tr>\n",
       "    <tr>\n",
       "      <th>2019-12-27</th>\n",
       "      <td>38.00</td>\n",
       "      <td>38.43</td>\n",
       "      <td>37.96</td>\n",
       "      <td>38.24</td>\n",
       "      <td>38.24</td>\n",
       "      <td>458170.0</td>\n",
       "      <td>0.0</td>\n",
       "      <td>1.0</td>\n",
       "      <td>36.3387</td>\n",
       "      <td>39.1543</td>\n",
       "      <td>...</td>\n",
       "      <td>37.9678</td>\n",
       "      <td>0.1709</td>\n",
       "      <td>0.2092</td>\n",
       "      <td>0.0383</td>\n",
       "      <td>28.7412</td>\n",
       "      <td>30.3175</td>\n",
       "      <td>54.5697</td>\n",
       "      <td>38.12</td>\n",
       "      <td>38.12</td>\n",
       "      <td>0.00</td>\n",
       "    </tr>\n",
       "  </tbody>\n",
       "</table>\n",
       "<p>5 rows × 22 columns</p>\n",
       "</div>"
      ],
      "text/plain": [
       "             Open   High    Low  Close  Adj Close       Vol  Div amt  Split  \\\n",
       "date                                                                          \n",
       "2020-01-03  38.34  38.39  37.70  38.13      38.13  637234.0      0.0    1.0   \n",
       "2020-01-02  38.20  38.79  38.00  38.61      38.61  919307.0      0.0    1.0   \n",
       "2019-12-31  37.77  38.11  37.74  37.88      37.88  295693.0      0.0    1.0   \n",
       "2019-12-30  38.08  38.34  37.77  37.77      37.77  652014.0      0.0    1.0   \n",
       "2019-12-27  38.00  38.43  37.96  38.24      38.24  458170.0      0.0    1.0   \n",
       "\n",
       "            Real Lower Band  Real Upper Band  ...      EMA  MACD_Signal  \\\n",
       "date                                          ...                         \n",
       "2020-01-03          37.1739          38.9051  ...  38.0178       0.1664   \n",
       "2020-01-02          36.9432          38.9988  ...  38.0060       0.1668   \n",
       "2019-12-31          36.6299          39.0781  ...  37.9424       0.1642   \n",
       "2019-12-30          36.4068          39.1552  ...  37.9490       0.1701   \n",
       "2019-12-27          36.3387          39.1543  ...  37.9678       0.1709   \n",
       "\n",
       "              MACD  MACD_Hist    SlowD    SlowK      RSI  Prev_open  \\\n",
       "date                                                                  \n",
       "2020-01-03  0.1648    -0.0015  35.0852  47.0752  52.6905      38.20   \n",
       "2020-01-02  0.1769     0.0101  27.6852  33.9253  56.9094      37.77   \n",
       "2019-12-31  0.1408    -0.0235  26.4826  24.2552  51.2725      38.08   \n",
       "2019-12-30  0.1669    -0.0031  27.3957  24.8753  50.3426      38.00   \n",
       "2019-12-27  0.2092     0.0383  28.7412  30.3175  54.5697      38.12   \n",
       "\n",
       "            Prev_close  Percent_prev  \n",
       "date                                  \n",
       "2020-01-03       38.61          1.07  \n",
       "2020-01-02       37.88          0.29  \n",
       "2019-12-31       37.77         -0.81  \n",
       "2019-12-30       38.24          0.63  \n",
       "2019-12-27       38.12          0.00  \n",
       "\n",
       "[5 rows x 22 columns]"
      ]
     },
     "execution_count": 5,
     "metadata": {},
     "output_type": "execute_result"
    }
   ],
   "source": [
    "data3=data.copy()\n",
    "data3.head()"
   ]
  },
  {
   "cell_type": "code",
   "execution_count": 6,
   "metadata": {},
   "outputs": [],
   "source": [
    "bins = [-1000, 0.1, 1000]\n",
    "group_names = [0,1]\n",
    "data['Target'] = pd.cut(data['Percent_prev'], bins, labels=group_names)\n",
    "data3=data"
   ]
  },
  {
   "cell_type": "code",
   "execution_count": 7,
   "metadata": {},
   "outputs": [],
   "source": [
    "data3=data3.dropna()"
   ]
  },
  {
   "cell_type": "code",
   "execution_count": 8,
   "metadata": {},
   "outputs": [],
   "source": [
    "X=np.array(data3.iloc[:,:-4])\n",
    "y=np.array(data3['Target'])"
   ]
  },
  {
   "cell_type": "code",
   "execution_count": 9,
   "metadata": {},
   "outputs": [
    {
     "name": "stderr",
     "output_type": "stream",
     "text": [
      "C:\\Program Files (x86)\\Microsoft Visual Studio\\Shared\\Anaconda3_64\\lib\\site-packages\\sklearn\\ensemble\\weight_boosting.py:29: DeprecationWarning: numpy.core.umath_tests is an internal NumPy module and should not be imported. It will be removed in a future NumPy release.\n",
      "  from numpy.core.umath_tests import inner1d\n"
     ]
    }
   ],
   "source": [
    "from sklearn.model_selection import train_test_split\n",
    "from sklearn.preprocessing import StandardScaler\n",
    "from sklearn.datasets import make_moons, make_circles, make_classification\n",
    "from sklearn.neural_network import MLPClassifier\n",
    "from sklearn.neighbors import KNeighborsClassifier\n",
    "from sklearn.svm import SVC, SVR\n",
    "from sklearn.gaussian_process import GaussianProcessClassifier\n",
    "from sklearn.gaussian_process.kernels import RBF\n",
    "from sklearn.tree import DecisionTreeClassifier\n",
    "from sklearn.ensemble import RandomForestClassifier, AdaBoostClassifier\n",
    "from sklearn.naive_bayes import GaussianNB\n",
    "from sklearn.discriminant_analysis import QuadraticDiscriminantAnalysis\n",
    "from sklearn.linear_model import LinearRegression"
   ]
  },
  {
   "cell_type": "code",
   "execution_count": 10,
   "metadata": {},
   "outputs": [],
   "source": [
    "from sklearn.preprocessing import MinMaxScaler\n",
    "from sklearn.model_selection import train_test_split\n",
    "# scale the feature MinMax, build array\n",
    "min_max_scaler = MinMaxScaler()\n",
    "X_normal = min_max_scaler.fit_transform(X)\n",
    "# y_fitted = min_max_scaler.transform(y)"
   ]
  },
  {
   "cell_type": "code",
   "execution_count": 11,
   "metadata": {},
   "outputs": [],
   "source": [
    "X_train, X_test, y_train, y_test= train_test_split(X_normal,y, test_size=0.25, random_state = 42)"
   ]
  },
  {
   "cell_type": "code",
   "execution_count": 40,
   "metadata": {},
   "outputs": [
    {
     "data": {
      "text/plain": [
       "0.7147335423197492"
      ]
     },
     "execution_count": 40,
     "metadata": {},
     "output_type": "execute_result"
    }
   ],
   "source": [
    "clf=SVC(kernel=\"linear\", C=1000)\n",
    "clf.fit(X_train, y_train)\n",
    "score = clf.score(X_test, y_test)\n",
    "y_pred = clf.predict(X_test)\n",
    "score"
   ]
  },
  {
   "cell_type": "code",
   "execution_count": 42,
   "metadata": {},
   "outputs": [
    {
     "data": {
      "text/plain": [
       "array([0, 1, 0, 0, 1, 1, 1, 0, 1, 0, 1, 0, 0, 0, 0, 0, 0, 1, 1, 0, 0, 0,\n",
       "       0, 0, 0, 0, 1, 0, 1, 0, 1, 0, 0, 0, 0, 1, 0, 0, 0, 1, 1, 0, 1, 1,\n",
       "       1, 0, 1, 1, 1, 0, 0, 0, 1, 0, 0, 1, 0, 0, 0, 1, 1, 0, 1, 1, 0, 0,\n",
       "       0, 1, 0, 1, 0, 1, 0, 0, 0, 1, 1, 1, 1, 0, 1, 1, 1, 1, 1, 1, 1, 0,\n",
       "       1, 0, 1, 0, 0, 1, 1, 1, 0, 0, 0, 1], dtype=int64)"
      ]
     },
     "execution_count": 42,
     "metadata": {},
     "output_type": "execute_result"
    }
   ],
   "source": [
    "clf.predict(X_train)[:100]"
   ]
  },
  {
   "cell_type": "code",
   "execution_count": 43,
   "metadata": {},
   "outputs": [],
   "source": [
    "# clf=QuadraticDiscriminantAnalysis()\n",
    "# clf.fit(X_train, y_train)\n",
    "# score = clf.score(X_test, y_test)\n",
    "# y_pred = clf.predict(X_test)\n",
    "# y_pred[:100]"
   ]
  },
  {
   "cell_type": "code",
   "execution_count": 44,
   "metadata": {},
   "outputs": [
    {
     "data": {
      "text/plain": [
       "array([0, 0, 1, 0, 1, 0, 0, 0, 0, 1, 0, 0, 0, 0, 1, 1, 1, 0, 0, 0, 0, 0,\n",
       "       1, 1, 0, 0, 1, 0, 0, 1, 0, 1, 0, 0, 0, 1, 1, 0, 0, 1, 0, 0, 1, 0,\n",
       "       0, 0, 1, 0, 1, 1, 1, 1, 0, 1, 1, 0, 0, 0, 0, 0, 0, 0, 1, 0, 1, 1,\n",
       "       1, 1, 1, 1, 1, 1, 1, 1, 0, 0, 1, 1, 0, 0, 0, 1, 1, 0, 1, 1, 1, 1,\n",
       "       0, 0, 0, 1, 1, 1, 0, 0, 0, 1, 0, 0], dtype=int64)"
      ]
     },
     "execution_count": 44,
     "metadata": {},
     "output_type": "execute_result"
    }
   ],
   "source": [
    "y_pred[:100]"
   ]
  },
  {
   "cell_type": "code",
   "execution_count": 45,
   "metadata": {},
   "outputs": [
    {
     "data": {
      "text/plain": [
       "array([0, 0, 0, 0, 0, 0, 1, 0, 0, 1, 0, 0, 1, 1, 0, 1, 1, 0, 0, 1, 0, 1,\n",
       "       0, 0, 0, 0, 0, 0, 1, 0, 0, 1, 1, 0, 1, 1, 0, 0, 0, 1, 1, 0, 0, 0,\n",
       "       1, 0, 1, 0, 1, 0, 1, 1, 0, 0, 1, 1, 0, 0, 0, 1, 0, 1, 1, 0, 1, 1,\n",
       "       1, 1, 1, 1, 1, 1, 1, 1, 0, 0, 1, 1, 0, 0, 0, 1, 1, 0, 0, 0, 1, 1,\n",
       "       0, 0, 0, 1, 1, 1, 0, 0, 0, 1, 1, 0], dtype=int64)"
      ]
     },
     "execution_count": 45,
     "metadata": {},
     "output_type": "execute_result"
    }
   ],
   "source": [
    "y_test[:100]"
   ]
  },
  {
   "cell_type": "markdown",
   "metadata": {},
   "source": [
    "# let's try neural network"
   ]
  },
  {
   "cell_type": "code",
   "execution_count": null,
   "metadata": {},
   "outputs": [],
   "source": [
    "dataNN=data3.copy()"
   ]
  },
  {
   "cell_type": "code",
   "execution_count": null,
   "metadata": {},
   "outputs": [],
   "source": [
    "dataNN.tail()"
   ]
  },
  {
   "cell_type": "code",
   "execution_count": null,
   "metadata": {},
   "outputs": [],
   "source": [
    "dataNN[\"Split\"].value_counts()"
   ]
  },
  {
   "cell_type": "code",
   "execution_count": null,
   "metadata": {},
   "outputs": [],
   "source": [
    "dataNN=dataNN.drop([\"Div amt\", \"Split\"], axis=1)"
   ]
  },
  {
   "cell_type": "code",
   "execution_count": null,
   "metadata": {},
   "outputs": [],
   "source": []
  }
 ],
 "metadata": {
  "kernelspec": {
   "display_name": "Python 3",
   "language": "python",
   "name": "python3"
  },
  "language_info": {
   "codemirror_mode": {
    "name": "ipython",
    "version": 3
   },
   "file_extension": ".py",
   "mimetype": "text/x-python",
   "name": "python",
   "nbconvert_exporter": "python",
   "pygments_lexer": "ipython3",
   "version": "3.6.5"
  }
 },
 "nbformat": 4,
 "nbformat_minor": 2
}
