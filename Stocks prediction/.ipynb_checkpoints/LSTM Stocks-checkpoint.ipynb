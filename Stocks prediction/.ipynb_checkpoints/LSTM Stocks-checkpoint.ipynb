{
 "cells": [
  {
   "cell_type": "code",
   "execution_count": null,
   "metadata": {},
   "outputs": [],
   "source": [
    "import pandas as pd \n",
    "from alpha_vantage.timeseries import TimeSeries\n",
    "from alpha_vantage.techindicators import TechIndicators\n",
    "import matplotlib.pyplot as plt\n",
    "\n",
    "data = pd.read_csv(\"daily_adjusted_EN.PA.csv\") \n",
    "\n",
    "data.head()"
   ]
  },
  {
   "cell_type": "code",
   "execution_count": null,
   "metadata": {},
   "outputs": [],
   "source": [
    "ts = TimeSeries(key='BHE3BCBJB782W3I3', output_format='pandas', indexing_type='date')\n",
    "# Get json object with the intraday data and another with  the call's metadata\n",
    "indicators, _ = ts.get_daily_adjusted('EN.PA', outputsize='full')"
   ]
  },
  {
   "cell_type": "code",
   "execution_count": null,
   "metadata": {},
   "outputs": [],
   "source": [
    "indicators.head()"
   ]
  },
  {
   "cell_type": "code",
   "execution_count": null,
   "metadata": {},
   "outputs": [],
   "source": [
    "indicators['4. close'].plot()\n",
    "plt.title('Daily Times Series for the Bouygues stock')\n",
    "plt.show()"
   ]
  },
  {
   "cell_type": "code",
   "execution_count": null,
   "metadata": {},
   "outputs": [],
   "source": [
    "ti = TechIndicators(key='BHE3BCBJB782W3I3', output_format='pandas')\n",
    "bbands, _ = ti.get_bbands(symbol='EN.PA', interval='daily')"
   ]
  },
  {
   "cell_type": "code",
   "execution_count": null,
   "metadata": {},
   "outputs": [],
   "source": [
    "concat=pd.concat([indicators, bbands], axis=1, join='inner')"
   ]
  },
  {
   "cell_type": "code",
   "execution_count": null,
   "metadata": {},
   "outputs": [],
   "source": [
    "concat.head()"
   ]
  },
  {
   "cell_type": "code",
   "execution_count": null,
   "metadata": {},
   "outputs": [],
   "source": [
    "help(TechIndicators)"
   ]
  },
  {
   "cell_type": "code",
   "execution_count": null,
   "metadata": {},
   "outputs": [],
   "source": [
    "concat[\"diff\"]=concat[\"1. open\"]-concat[\"4. close\"]"
   ]
  },
  {
   "cell_type": "code",
   "execution_count": null,
   "metadata": {},
   "outputs": [],
   "source": [
    "concat.head()"
   ]
  },
  {
   "cell_type": "code",
   "execution_count": null,
   "metadata": {},
   "outputs": [],
   "source": [
    "sma, _ = ti.get_sma(symbol='EN.PA', interval='daily')\n",
    "ema, _ = ti.get_ema(symbol='EN.PA', interval='daily')\n",
    "#vwap, _ = ti.get_vwap(symbol='EN.PA', interval='daily')\n",
    "macd, _ = ti.get_macd(symbol='EN.PA', interval='daily')\n",
    "stoch, _ = ti.get_stoch(symbol='EN.PA', interval='daily')\n",
    "rsi, _ = ti.get_rsi(symbol='EN.PA', interval='daily')"
   ]
  },
  {
   "cell_type": "code",
   "execution_count": null,
   "metadata": {},
   "outputs": [],
   "source": [
    "concat=pd.concat([indicators, bbands, sma, ema, macd, stoch], axis=1, join='inner')"
   ]
  },
  {
   "cell_type": "code",
   "execution_count": null,
   "metadata": {},
   "outputs": [],
   "source": [
    "concat=concat.rename(columns={\"1. open\": \"Open\", \"2. high\": \"High\", \"3. low\": \"Low\", \"4. close\": \"Close\", \n",
    "                       \"5. adjusted close\": \"Adj Close\", \"6. volume\": \"Vol\", \"7. dividend amount\": \"Div amt\",\n",
    "                       \"8. split coefficient\": \"Split\"})\n",
    "\n",
    "concat.head()"
   ]
  },
  {
   "cell_type": "code",
   "execution_count": null,
   "metadata": {},
   "outputs": [],
   "source": [
    "dictionary={}"
   ]
  },
  {
   "cell_type": "code",
   "execution_count": null,
   "metadata": {},
   "outputs": [],
   "source": [
    "dictionary[\"EN.PA\"]=concat"
   ]
  },
  {
   "cell_type": "code",
   "execution_count": null,
   "metadata": {},
   "outputs": [],
   "source": [
    "dictionary[\"EN.PA\"]"
   ]
  },
  {
   "cell_type": "code",
   "execution_count": null,
   "metadata": {},
   "outputs": [],
   "source": []
  },
  {
   "cell_type": "code",
   "execution_count": null,
   "metadata": {},
   "outputs": [],
   "source": []
  },
  {
   "cell_type": "code",
   "execution_count": null,
   "metadata": {},
   "outputs": [],
   "source": []
  }
 ],
 "metadata": {
  "kernelspec": {
   "display_name": "Python 3",
   "language": "python",
   "name": "python3"
  },
  "language_info": {
   "codemirror_mode": {
    "name": "ipython",
    "version": 3
   },
   "file_extension": ".py",
   "mimetype": "text/x-python",
   "name": "python",
   "nbconvert_exporter": "python",
   "pygments_lexer": "ipython3",
   "version": "3.6.5"
  }
 },
 "nbformat": 4,
 "nbformat_minor": 2
}
